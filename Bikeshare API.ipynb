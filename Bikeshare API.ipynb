{
 "cells": [
  {
   "attachments": {},
   "cell_type": "markdown",
   "id": "62480ff6-d08f-4fbf-b4b7-a4d272c75fcb",
   "metadata": {},
   "source": [
    "Import Libraries"
   ]
  },
  {
   "cell_type": "code",
   "execution_count": 3,
   "id": "ee5b7119-68ca-4c52-aef2-7e55ae1e7b0c",
   "metadata": {},
   "outputs": [],
   "source": [
    "import sqlite3\n",
    "import requests\n",
    "from tqdm import tqdm\n",
    "\n",
    "from flask import Flask, request\n",
    "import json \n",
    "import numpy as np\n",
    "import pandas as pd"
   ]
  },
  {
   "attachments": {},
   "cell_type": "markdown",
   "id": "86774391-698b-41d4-a2fa-c9943a8e1ded",
   "metadata": {},
   "source": [
    "# Introduction\n",
    "In most cases when we are running a business, there are a lot of data stakeholder outside our company. The problem is that we need to provide the access in a way that they will not break our security rules or concerns. One way to solve that is by creating an API for the database. In this project, we will introduce you on how python is used for data transaction management using Flask API. \n",
    "\n",
    "**Usecase**: Bikeshare App\\\n",
    "Have you ever rent a bike for faster mobility in town? In the past few years, this business once become a phenomenom. In Indonesia, there are lots of similar services, for example, the Jakarta government's \"GOWES\" bike sharing service that launcehd in July 2020. \n",
    "\n",
    "For the user perspective, the general journey is denoted as follows:\n",
    "- User scan the bike located at some bike station, sending the data to database as the intent of \"start riding\"\n",
    "- Once user has reached its destination station, he/she put back the bike, sending the data again to the database as the intent of \"finished riding\"\n",
    "\n",
    "For each activity, there are data transactions between user and database. And how do you think each user's phone communicate with the server for storing and receiving the data? Using API ofcourse! \n",
    "\n",
    "We will later create a simplified version of the API service which handles data transactions and analysis. \n",
    "\n",
    "\n",
    "**Goals**: Make an API service to connect 3rd party user with data using HTTP request\n",
    "\n",
    "**End Product**: A Flask API which capable of doing: \n",
    "- Input new data to database\n",
    "- Read specific data from database\n",
    "- Get specific insight from data analysis process (ie: best performing stations)\n",
    "\n",
    "**Scoring Metrics**: \n",
    "\n",
    "1. 1 point - Created Flask App\n",
    "\n",
    "-  create app.py file to make flask app\n",
    "-  create Flask app to execute all of the endpoint you have made\n",
    "\n",
    "2. 2 points - Created functionality to read or get specific data from the database\n",
    "\n",
    "- create query to read data from database\n",
    "- create function to execute read specific information into table from database\n",
    "\n",
    "3. 4 points - Created functionality to input new data into each table for the databases\n",
    "\n",
    "- create query to insert new data into stations and trips table\n",
    "- create function to execute input data into stations and trips table\n",
    "\n",
    "4. 3 points - Created static endpoints which return analytical result (must be different from point 2,3)\n",
    "\n",
    "- create query to make analytical resultfrom the data\n",
    "- create static endpoint to analyze the data from database, for example average trip durations\n",
    "    \n",
    "5. 3 points - Created dynamic endpoints which return analytical result (must be different from point 2,3,4)\n",
    "\n",
    "- create query to make analytical resultfrom the data\n",
    "- create dinamic endpoint to analyze the data from database, for example average trip durations for each bike_id\n",
    "\n",
    "6. 3 points - Created POST endpoint which receive input data, then utilize it to get analytical result (must be different from point 2,3,4,5)\n",
    "\n",
    "- create input data for refering into query for post endpoint\n",
    "- make query and aggregation function to implement the input\n",
    "\n",
    "**Tools**: \n",
    "- **Python** with **Jupyter Notebook**, installed with **required libraries**\n",
    "- **Visual Studio Code (VSCode)**: Recommended for writing application scripts\n",
    "- **TablePlus**: Recommended for easy database access and exploration\n",
    "- Postman: Optional for easy API testing\n"
   ]
  },
  {
   "attachments": {},
   "cell_type": "markdown",
   "id": "7f0d31b3-764f-4d0a-941d-443c5a502e1f",
   "metadata": {},
   "source": [
    "# About the Data"
   ]
  },
  {
   "attachments": {},
   "cell_type": "markdown",
   "id": "89ec6608-cf50-4f15-993c-99f186ece82c",
   "metadata": {},
   "source": [
    "The data that we will be using in this project is **[Austin Bike Share]()** dataset which contains information on bike trip start location, stop location, duration, type of bike share user in the city of Austin, Texas. Bike station location data is also provided. \n",
    "\n",
    "All the information is stored in a database called **austin_bikeshare.db**. However, we also provides the non existing data in csv files. These data then will be imported into the database using the API"
   ]
  },
  {
   "attachments": {},
   "cell_type": "markdown",
   "id": "3c4833d3-015d-4f4a-b00d-21e00af777fc",
   "metadata": {},
   "source": [
    "Lists of files:\n",
    "- **austin_bikeshare.db**: The database, contains `trips` and `stations` table\n",
    "- **data/austin_bikeshare_stations.csv**: contains all the stations information which is not yet available in the database table\n",
    "- **data/austin_bikeshare_trips_2021.csv**: contains all 2021 data which is not yet available in the database table"
   ]
  },
  {
   "cell_type": "code",
   "execution_count": 4,
   "id": "52e3d146-1a21-4b1a-9ffc-817f4f084375",
   "metadata": {},
   "outputs": [],
   "source": [
    "# Reading the csv data\n",
    "trips = pd.read_csv('data/austin_bikeshare_trips_2021.csv')\n",
    "stations = pd.read_csv('data/austin_bikeshare_stations.csv')"
   ]
  },
  {
   "attachments": {},
   "cell_type": "markdown",
   "id": "60bb1c45-5b3d-4987-beb7-7aafaa6b4609",
   "metadata": {},
   "source": [
    "## Taking a look for trips data\n",
    "`trips` table in database, or `austin_bikeshare_trips.csv` in original files. It roughly consisted of 1.3 million rows"
   ]
  },
  {
   "cell_type": "code",
   "execution_count": 3,
   "id": "69039e08-e759-4950-9253-3ad44c59cddf",
   "metadata": {},
   "outputs": [
    {
     "data": {
      "text/html": [
       "<div>\n",
       "<style scoped>\n",
       "    .dataframe tbody tr th:only-of-type {\n",
       "        vertical-align: middle;\n",
       "    }\n",
       "\n",
       "    .dataframe tbody tr th {\n",
       "        vertical-align: top;\n",
       "    }\n",
       "\n",
       "    .dataframe thead th {\n",
       "        text-align: right;\n",
       "    }\n",
       "</style>\n",
       "<table border=\"1\" class=\"dataframe\">\n",
       "  <thead>\n",
       "    <tr style=\"text-align: right;\">\n",
       "      <th></th>\n",
       "      <th>trip_id</th>\n",
       "      <th>subscriber_type</th>\n",
       "      <th>bikeid</th>\n",
       "      <th>start_time</th>\n",
       "      <th>start_station_id</th>\n",
       "      <th>start_station_name</th>\n",
       "      <th>end_station_id</th>\n",
       "      <th>end_station_name</th>\n",
       "      <th>duration_minutes</th>\n",
       "    </tr>\n",
       "  </thead>\n",
       "  <tbody>\n",
       "    <tr>\n",
       "      <th>0</th>\n",
       "      <td>23455589</td>\n",
       "      <td>Local365</td>\n",
       "      <td>174</td>\n",
       "      <td>2021-01-26 17:47:42 UTC</td>\n",
       "      <td>4059.0</td>\n",
       "      <td>Nash Hernandez/East @ RBJ South</td>\n",
       "      <td>3660.0</td>\n",
       "      <td>East 6th/Medina</td>\n",
       "      <td>7</td>\n",
       "    </tr>\n",
       "    <tr>\n",
       "      <th>1</th>\n",
       "      <td>23459960</td>\n",
       "      <td>Local365</td>\n",
       "      <td>19265</td>\n",
       "      <td>2021-01-28 08:03:52 UTC</td>\n",
       "      <td>4054.0</td>\n",
       "      <td>Rosewood/Chicon</td>\n",
       "      <td>4055.0</td>\n",
       "      <td>11th/Salina</td>\n",
       "      <td>16</td>\n",
       "    </tr>\n",
       "  </tbody>\n",
       "</table>\n",
       "</div>"
      ],
      "text/plain": [
       "    trip_id subscriber_type bikeid               start_time  start_station_id   \n",
       "0  23455589        Local365    174  2021-01-26 17:47:42 UTC            4059.0  \\\n",
       "1  23459960        Local365  19265  2021-01-28 08:03:52 UTC            4054.0   \n",
       "\n",
       "                start_station_name  end_station_id end_station_name   \n",
       "0  Nash Hernandez/East @ RBJ South          3660.0  East 6th/Medina  \\\n",
       "1                  Rosewood/Chicon          4055.0     11th/Salina    \n",
       "\n",
       "   duration_minutes  \n",
       "0                 7  \n",
       "1                16  "
      ]
     },
     "execution_count": 3,
     "metadata": {},
     "output_type": "execute_result"
    }
   ],
   "source": [
    "trips.head(2)"
   ]
  },
  {
   "attachments": {},
   "cell_type": "markdown",
   "id": "01ee13e1-1110-45fe-8831-1bf7604d6f87",
   "metadata": {},
   "source": [
    "**Data Descriptions**:\n",
    "- `trip_id`: unique trip id int\n",
    "- `subscriber_type`: membership typ e.g. walk up, annual, other bike share, etc\n",
    "- `bikeid`: integer id of bike\n",
    "- `start_time`: YYYY-MM-DD HH:MM:SS\n",
    "- `startstationid`: integer id of start station\n",
    "- `startstationname`: string of start station name\n",
    "- `endstationid`: integer id of end station\n",
    "- `endstationname`: string of end station name\n",
    "- `duration_minutes`: int minutes of trip duration\n",
    "\n",
    "**[nanti kita yang ngisi]**\n",
    "- `month`: month, integer\n",
    "- `year`: year of trip, int\n",
    "- `checkout_time`: HH:MM:SS, see start time for date stamp"
   ]
  },
  {
   "attachments": {},
   "cell_type": "markdown",
   "id": "44fd2bdd-a1e9-4734-b7a7-8ddc8f3ee0e2",
   "metadata": {},
   "source": [
    "## Taking a look for stations data\n",
    "`stations` table in database, or `austin_bikeshare_stations.csv` in original files "
   ]
  },
  {
   "cell_type": "code",
   "execution_count": 4,
   "id": "de5298bf-64a9-4565-a83d-ce1f4d1f4403",
   "metadata": {},
   "outputs": [
    {
     "data": {
      "text/html": [
       "<div>\n",
       "<style scoped>\n",
       "    .dataframe tbody tr th:only-of-type {\n",
       "        vertical-align: middle;\n",
       "    }\n",
       "\n",
       "    .dataframe tbody tr th {\n",
       "        vertical-align: top;\n",
       "    }\n",
       "\n",
       "    .dataframe thead th {\n",
       "        text-align: right;\n",
       "    }\n",
       "</style>\n",
       "<table border=\"1\" class=\"dataframe\">\n",
       "  <thead>\n",
       "    <tr style=\"text-align: right;\">\n",
       "      <th></th>\n",
       "      <th>station_id</th>\n",
       "      <th>name</th>\n",
       "      <th>status</th>\n",
       "      <th>address</th>\n",
       "      <th>alternate_name</th>\n",
       "      <th>city_asset_number</th>\n",
       "      <th>property_type</th>\n",
       "      <th>number_of_docks</th>\n",
       "      <th>power_type</th>\n",
       "      <th>footprint_length</th>\n",
       "      <th>footprint_width</th>\n",
       "      <th>notes</th>\n",
       "      <th>council_district</th>\n",
       "      <th>modified_date</th>\n",
       "    </tr>\n",
       "  </thead>\n",
       "  <tbody>\n",
       "    <tr>\n",
       "      <th>96</th>\n",
       "      <td>3795</td>\n",
       "      <td>Dean Keeton &amp; Whitis</td>\n",
       "      <td>active</td>\n",
       "      <td>300 W. Dean Keeton St.</td>\n",
       "      <td>NaN</td>\n",
       "      <td>32671.0</td>\n",
       "      <td>undetermined_parking</td>\n",
       "      <td>19.0</td>\n",
       "      <td>solar</td>\n",
       "      <td>55.0</td>\n",
       "      <td>5.0</td>\n",
       "      <td>NaN</td>\n",
       "      <td>9</td>\n",
       "      <td>2021-01-04T12:00:00Z</td>\n",
       "    </tr>\n",
       "    <tr>\n",
       "      <th>97</th>\n",
       "      <td>3797</td>\n",
       "      <td>21st &amp; University</td>\n",
       "      <td>active</td>\n",
       "      <td>2007 University Ave.</td>\n",
       "      <td>NaN</td>\n",
       "      <td>32674.0</td>\n",
       "      <td>undetermined_parking</td>\n",
       "      <td>19.0</td>\n",
       "      <td>solar</td>\n",
       "      <td>55.0</td>\n",
       "      <td>5.0</td>\n",
       "      <td>ROW might belong to UT</td>\n",
       "      <td>9</td>\n",
       "      <td>2021-01-04T12:00:00Z</td>\n",
       "    </tr>\n",
       "  </tbody>\n",
       "</table>\n",
       "</div>"
      ],
      "text/plain": [
       "    station_id                  name  status                 address   \n",
       "96        3795  Dean Keeton & Whitis  active  300 W. Dean Keeton St.  \\\n",
       "97        3797     21st & University  active    2007 University Ave.   \n",
       "\n",
       "   alternate_name  city_asset_number         property_type  number_of_docks   \n",
       "96            NaN            32671.0  undetermined_parking             19.0  \\\n",
       "97            NaN            32674.0  undetermined_parking             19.0   \n",
       "\n",
       "   power_type  footprint_length  footprint_width                   notes   \n",
       "96      solar              55.0              5.0                     NaN  \\\n",
       "97      solar              55.0              5.0  ROW might belong to UT   \n",
       "\n",
       "    council_district         modified_date  \n",
       "96                 9  2021-01-04T12:00:00Z  \n",
       "97                 9  2021-01-04T12:00:00Z  "
      ]
     },
     "execution_count": 4,
     "metadata": {},
     "output_type": "execute_result"
    }
   ],
   "source": [
    "stations.tail(2)"
   ]
  },
  {
   "attachments": {},
   "cell_type": "markdown",
   "id": "fb167853-53c1-4bd5-aea4-3bcf0d0cba5e",
   "metadata": {},
   "source": [
    "**stations table (or austin_bikeshare_trips.csv)**:\n",
    "- `station_id`: integer id of station\n",
    "- `name`: string of station name\n",
    "- `status`: string of station status (active, closed, moved, ACL-only)\n",
    "- `address`: string of station address\n",
    "- `alternate_name`: string of station alternative name\n",
    "- `city_asset_number`: integer of station's asset number\n",
    "- `property_type`: string of station's property type\n",
    "- `number_of_docks`: integer of number of available bike docks\n",
    "- `power_type`: string of station's power source type\n",
    "- `footprint_length`: float of station' blueprint length (size of the station). Probably in meters\n",
    "- `footprint_width`: float of station' blueprint width (size of the station). Probably in meters\n",
    "- `notes`: string of additional notes\n",
    "- `council_district`: integer of stations's council district\n",
    "- `modified_date`: date of last modified information regarding the station"
   ]
  },
  {
   "attachments": {},
   "cell_type": "markdown",
   "id": "c424d7fc-0fe4-4010-959f-d030c825abc5",
   "metadata": {},
   "source": [
    "# Database"
   ]
  },
  {
   "attachments": {},
   "cell_type": "markdown",
   "id": "c8ab9b50-dc5c-431a-a01e-b32bf0a10709",
   "metadata": {},
   "source": [
    "The first important task is to make sure we can securely make connections to the database. In this scenario, we will connect to sqlite database, `austin_bikeshare.db` via python. In this part, we will re-visit on how to work with databases, started with making a connection, get some data, and insert data into it. \n",
    "\n",
    "You can directly connect and view the database using TablePlus, or run the following code to create the connection"
   ]
  },
  {
   "cell_type": "code",
   "execution_count": 5,
   "id": "bbaec86f-2ce8-48d2-b37c-d949e53d18ce",
   "metadata": {},
   "outputs": [
    {
     "data": {
      "text/plain": [
       "<sqlite3.Connection at 0x2377f02bd40>"
      ]
     },
     "execution_count": 5,
     "metadata": {},
     "output_type": "execute_result"
    }
   ],
   "source": [
    "# Define a function to create connection for reusability purpose\n",
    "def make_connection():\n",
    "    connection = sqlite3.connect('austin_bikeshare.db')\n",
    "    return connection\n",
    "\n",
    "conn = make_connection()\n",
    "make_connection()"
   ]
  },
  {
   "attachments": {},
   "cell_type": "markdown",
   "id": "63da1e43-7bea-473c-9b7e-f9b86e13a8ec",
   "metadata": {},
   "source": [
    "## POST: Insert data into database\n",
    "\n",
    "Generally, POST method will utilize the data sent by user for specific purporse, for example: \n",
    "\n",
    "- Insert new data into the database. \n",
    "- Operate the data into some function"
   ]
  },
  {
   "attachments": {},
   "cell_type": "markdown",
   "id": "27d0a87a-a3cf-4a38-85bb-3036718f2e62",
   "metadata": {},
   "source": [
    "We will learn how to insert data into a specific table in our database. Please refer to the following code to create and run the query for the given task"
   ]
  },
  {
   "attachments": {},
   "cell_type": "markdown",
   "id": "215c292a",
   "metadata": {},
   "source": [
    "**insert query perintahnya**\n",
    "> INSERT INTO <TABLE> VALUES (VALUE1, VALUE2, ..., VALUEn)\n",
    "\n",
    "**code breakdown**\n",
    "1. stations.iloc[nomor] << ini buat ngambil satu baris (per transaksi i sppose)\n",
    "> karena diatas dia maunya datanya diapit kurung biasa (xxx) tapi kalo iloc dia ngasilin data series\n",
    "2. tambahin .values buat ekstrak datanya arraynya (dia masi ada []nya (i sppose))\n",
    "3. pake tuple() buat ngeluarin data yang () aja\n",
    "> query gabisa recognize NaN\n",
    "4. jadi harus .fillna('')"
   ]
  },
  {
   "cell_type": "code",
   "execution_count": 21,
   "id": "1d200cd0-8a48-4b45-800c-c39c25bafcb4",
   "metadata": {},
   "outputs": [],
   "source": [
    "# Get the data values\n",
    "data = tuple(stations.iloc[10].fillna('').values)\n",
    "\n",
    "# Make the query\n",
    "query = f\"\"\"\n",
    "INSERT INTO stations\n",
    "VALUES {data}\n",
    "\"\"\""
   ]
  },
  {
   "cell_type": "code",
   "execution_count": 22,
   "id": "1bf0754c-9cea-4d62-b870-1323bb2f7c1b",
   "metadata": {},
   "outputs": [
    {
     "name": "stdout",
     "output_type": "stream",
     "text": [
      "\n",
      "INSERT INTO stations\n",
      "VALUES (2712, 'Toomey Rd @ South Lamar', 'closed', '1301 Toomey Road', '', '', '', '', '', '', '', '', 5, '2021-01-04T12:00:00Z')\n",
      "\n"
     ]
    }
   ],
   "source": [
    "# See the actual query looks like\n",
    "print(query)"
   ]
  },
  {
   "cell_type": "code",
   "execution_count": 7,
   "id": "7c5c2d27-93ee-48a2-8228-d54c26b6f3da",
   "metadata": {},
   "outputs": [
    {
     "ename": "IntegrityError",
     "evalue": "UNIQUE constraint failed: stations.station_id",
     "output_type": "error",
     "traceback": [
      "\u001b[1;31m---------------------------------------------------------------------------\u001b[0m",
      "\u001b[1;31mIntegrityError\u001b[0m                            Traceback (most recent call last)",
      "Cell \u001b[1;32mIn[7], line 4\u001b[0m\n\u001b[0;32m      1\u001b[0m \u001b[38;5;66;03m# Execute the query (gabisa execute data yang primary keynya sama) \u001b[39;00m\n\u001b[0;32m      2\u001b[0m \u001b[38;5;66;03m# ini bakal error semua soalnya datanya udah di up di database semua di bwh\u001b[39;00m\n\u001b[0;32m      3\u001b[0m \u001b[38;5;66;03m# tapi udah bisa kok :D\u001b[39;00m\n\u001b[1;32m----> 4\u001b[0m \u001b[43mconn\u001b[49m\u001b[38;5;241;43m.\u001b[39;49m\u001b[43mexecute\u001b[49m\u001b[43m(\u001b[49m\u001b[43mquery\u001b[49m\u001b[43m)\u001b[49m\n",
      "\u001b[1;31mIntegrityError\u001b[0m: UNIQUE constraint failed: stations.station_id"
     ]
    }
   ],
   "source": [
    "# Execute the query (gabisa execute data yang primary keynya sama) \n",
    "# ini bakal error semua soalnya datanya udah di up di database semua di bwh\n",
    "# tapi udah bisa kok :D\n",
    "conn.execute(query)"
   ]
  },
  {
   "cell_type": "code",
   "execution_count": 14,
   "id": "3b35411a-c2bd-4a20-9663-50356ce74f7c",
   "metadata": {},
   "outputs": [],
   "source": [
    "# Commit changes to database\n",
    "conn.commit()"
   ]
  },
  {
   "attachments": {},
   "cell_type": "markdown",
   "id": "433e02eb-4244-4bf9-8cd6-2f65da183431",
   "metadata": {},
   "source": [
    "Once the code above succesful, it's recomended to wrap it into a function so that we can reuse it in the future. Complete the following codes to make the function:"
   ]
  },
  {
   "cell_type": "code",
   "execution_count": null,
   "id": "029e8c8d",
   "metadata": {},
   "outputs": [],
   "source": []
  },
  {
   "cell_type": "code",
   "execution_count": 8,
   "id": "604b25b8-66f9-4707-a092-a945023133cc",
   "metadata": {},
   "outputs": [],
   "source": [
    "def insert_into_stations(data, conn):\n",
    "    query = f\"\"\"INSERT INTO stations values {data}\"\"\"\n",
    "    try:\n",
    "        conn.execute(query)\n",
    "    except:\n",
    "        return 'Error'\n",
    "    conn.commit()\n",
    "    return 'OK'"
   ]
  },
  {
   "cell_type": "code",
   "execution_count": 11,
   "id": "97b6ec11-9394-4b27-8203-4892c79cfbc5",
   "metadata": {},
   "outputs": [
    {
     "data": {
      "text/plain": [
       "'OK'"
      ]
     },
     "execution_count": 11,
     "metadata": {},
     "output_type": "execute_result"
    }
   ],
   "source": [
    "# Example use of the function \n",
    "conn = make_connection()\n",
    "data = tuple(stations.iloc[7].fillna('').values) # Randomly select a data\n",
    "result = insert_into_stations(data, conn)\n",
    "result"
   ]
  },
  {
   "attachments": {},
   "cell_type": "markdown",
   "id": "d9beafb2-ee93-4532-a0f9-b10ac56a6835",
   "metadata": {},
   "source": [
    "**TASK: Create a Function to insert data for `trips` table**"
   ]
  },
  {
   "cell_type": "code",
   "execution_count": 18,
   "id": "ee3e9218",
   "metadata": {},
   "outputs": [],
   "source": [
    "data_trips = tuple(trips.iloc[2].fillna('').values)"
   ]
  },
  {
   "cell_type": "code",
   "execution_count": 12,
   "id": "aac0820e-2594-49c5-a98f-e72e8917da48",
   "metadata": {},
   "outputs": [],
   "source": [
    "# Your code here\n",
    "def insert_into_trips(data_trips, conn):\n",
    "    query_trips = f'''INSERT INTO trips values {data_trips}'''\n",
    "    try:\n",
    "        conn.execute(query_trips)\n",
    "    except:\n",
    "        return 'Error'\n",
    "    conn.commit()\n",
    "    return 'OK'"
   ]
  },
  {
   "cell_type": "code",
   "execution_count": 13,
   "id": "1764ea6d",
   "metadata": {},
   "outputs": [
    {
     "data": {
      "text/plain": [
       "'OK'"
      ]
     },
     "execution_count": 13,
     "metadata": {},
     "output_type": "execute_result"
    }
   ],
   "source": [
    "conn = make_connection()\n",
    "data_trips = tuple(trips.iloc[4].fillna('').values)\n",
    "result_trips = insert_into_trips(data_trips, conn)\n",
    "result_trips"
   ]
  },
  {
   "attachments": {},
   "cell_type": "markdown",
   "id": "72c93934-9c7e-495e-8613-9a5e73833577",
   "metadata": {},
   "source": [
    "## GET: Read specific data"
   ]
  },
  {
   "attachments": {},
   "cell_type": "markdown",
   "id": "f2486c61-a982-4d9f-831f-1fa77a21a417",
   "metadata": {},
   "source": [
    "Generally, GET method will ask for specific the data in the database, alongside with additional information we might send. For example: \n",
    "- Get number of unique user\n",
    "- Get full trips information for specific user id\n",
    "- Get average trips duration and length for specific user id\n",
    "\n",
    "In this example, we will implement the most basic GET method, that is to get Station information in the table based on specific Station ID"
   ]
  },
  {
   "cell_type": "code",
   "execution_count": 11,
   "id": "09b1e8f2-fc04-4c06-a23e-d31a93f65ccd",
   "metadata": {},
   "outputs": [],
   "source": [
    "# Get Specific Station ID  Query\n",
    "station_id = 2500\n",
    "query_station_id = f\"\"\"\n",
    "SELECT * FROM stations\n",
    "WHERE station_id = {station_id}\n",
    "\"\"\"\n",
    "\n",
    "# Get all station ID Query\n",
    "query_station_all = \"SELECT * FROM stations\""
   ]
  },
  {
   "cell_type": "code",
   "execution_count": 12,
   "id": "c4e317b7",
   "metadata": {},
   "outputs": [
    {
     "name": "stdout",
     "output_type": "stream",
     "text": [
      "\n",
      "SELECT * FROM stations\n",
      "WHERE station_id = 2500\n",
      "\n"
     ]
    }
   ],
   "source": [
    "print(query_station_id)"
   ]
  },
  {
   "cell_type": "code",
   "execution_count": 13,
   "id": "2b014e89-f857-4e18-9607-2b7d6139a1de",
   "metadata": {},
   "outputs": [],
   "source": [
    "# Run the query and get the result\n",
    "result = pd.read_sql_query(query_station_id, conn)"
   ]
  },
  {
   "cell_type": "code",
   "execution_count": 14,
   "id": "5c7a54ab-e979-4c1c-b27c-60e501cb3733",
   "metadata": {},
   "outputs": [
    {
     "data": {
      "text/html": [
       "<div>\n",
       "<style scoped>\n",
       "    .dataframe tbody tr th:only-of-type {\n",
       "        vertical-align: middle;\n",
       "    }\n",
       "\n",
       "    .dataframe tbody tr th {\n",
       "        vertical-align: top;\n",
       "    }\n",
       "\n",
       "    .dataframe thead th {\n",
       "        text-align: right;\n",
       "    }\n",
       "</style>\n",
       "<table border=\"1\" class=\"dataframe\">\n",
       "  <thead>\n",
       "    <tr style=\"text-align: right;\">\n",
       "      <th></th>\n",
       "      <th>station_id</th>\n",
       "      <th>name</th>\n",
       "      <th>status</th>\n",
       "      <th>address</th>\n",
       "      <th>alternate_name</th>\n",
       "      <th>city_asset_number</th>\n",
       "      <th>property_type</th>\n",
       "      <th>number_of_docks</th>\n",
       "      <th>power_type</th>\n",
       "      <th>footprint_length</th>\n",
       "      <th>footprint_width</th>\n",
       "      <th>notes</th>\n",
       "      <th>council_district</th>\n",
       "      <th>modified_date</th>\n",
       "    </tr>\n",
       "  </thead>\n",
       "  <tbody>\n",
       "    <tr>\n",
       "      <th>0</th>\n",
       "      <td>2500</td>\n",
       "      <td>Republic Square</td>\n",
       "      <td>closed</td>\n",
       "      <td>425 W 4th Street</td>\n",
       "      <td></td>\n",
       "      <td></td>\n",
       "      <td></td>\n",
       "      <td></td>\n",
       "      <td></td>\n",
       "      <td></td>\n",
       "      <td></td>\n",
       "      <td></td>\n",
       "      <td>9</td>\n",
       "      <td>2021-01-04T12:00:00Z</td>\n",
       "    </tr>\n",
       "  </tbody>\n",
       "</table>\n",
       "</div>"
      ],
      "text/plain": [
       "   station_id             name  status           address alternate_name   \n",
       "0        2500  Republic Square  closed  425 W 4th Street                 \\\n",
       "\n",
       "  city_asset_number property_type number_of_docks power_type footprint_length   \n",
       "0                                                                              \\\n",
       "\n",
       "  footprint_width notes  council_district         modified_date  \n",
       "0                                       9  2021-01-04T12:00:00Z  "
      ]
     },
     "execution_count": 14,
     "metadata": {},
     "output_type": "execute_result"
    }
   ],
   "source": [
    "result"
   ]
  },
  {
   "attachments": {},
   "cell_type": "markdown",
   "id": "4e589298-cbb0-4720-8275-7f09c18a9cca",
   "metadata": {},
   "source": [
    "Just like the previous section, create a function to read specific station"
   ]
  },
  {
   "cell_type": "code",
   "execution_count": 15,
   "id": "697114ad-0305-4d98-8cad-fa384be07e6b",
   "metadata": {},
   "outputs": [],
   "source": [
    "def get_station_id(station_id, conn):\n",
    "    query_station_id = f\"\"\"SELECT * FROM stations WHERE station_id = {station_id}\"\"\"\n",
    "    result = pd.read_sql_query(query_station_id, conn)\n",
    "    return result \n",
    "\n",
    "def get_all_stations(conn):\n",
    "    query_station_all = f\"\"\"SELECT * FROM stations\"\"\"\n",
    "    result = pd.read_sql_query(query_station_all, conn)\n",
    "    return result"
   ]
  },
  {
   "attachments": {},
   "cell_type": "markdown",
   "id": "d4d9eae2-06d8-4fed-a14b-adb32a3fbe1d",
   "metadata": {},
   "source": [
    "**TASK: Create a Function to read data from `trips` table**"
   ]
  },
  {
   "cell_type": "code",
   "execution_count": 16,
   "id": "52a0f542",
   "metadata": {},
   "outputs": [],
   "source": [
    "trip_id=23459960\n",
    "query_trip_id = f\"\"\"\n",
    "SELECT * FROM trips\n",
    "WHERE trip_id = {trip_id}\n",
    "\"\"\"\n",
    "\n",
    "query_trip_all = f\"SELECT * FROM trips\""
   ]
  },
  {
   "cell_type": "code",
   "execution_count": 23,
   "id": "543a6298-aace-41f2-bc0f-9ae0277f5428",
   "metadata": {},
   "outputs": [],
   "source": [
    "# Your code here\n",
    "def get_trip_id(trip_id, conn):\n",
    "    query_trip_id = f\"\"\"SELECT * FROM trips WHERE id = {trip_id}\"\"\"\n",
    "    result = pd.read_sql_query(query_trip_id, conn)\n",
    "    return result\n",
    "    \n",
    "def get_all_trips(conn):\n",
    "    query_trip_all = f\"\"\"SELECT * FROM trips\"\"\"\n",
    "    result = pd.read_sql_query(query_trip_all, conn)\n",
    "    return result"
   ]
  },
  {
   "attachments": {},
   "cell_type": "markdown",
   "id": "b024e79d-c7db-43ca-a226-45e934c5cdc0",
   "metadata": {},
   "source": [
    "# Flask App"
   ]
  },
  {
   "attachments": {},
   "cell_type": "markdown",
   "id": "d167587d-7e47-443c-b237-07f4201a6848",
   "metadata": {},
   "source": [
    "Flask is a micro-framework for python. Generally we can build any application out of it. To start with, let's make our first empy flask app. \n",
    "Creata a new file `app.py`, then copy-paste the following codes into it and save it. \n",
    "\n",
    "*Notes: it's recomended to use vscode as editor since it support vast linting supports, including python which we find really helpful in coding*"
   ]
  },
  {
   "attachments": {},
   "cell_type": "markdown",
   "id": "fae662bf-4667-4b4c-a5a8-e8118d45e151",
   "metadata": {},
   "source": [
    "```python\n",
    "from flask import Flask, request\n",
    "app = Flask(__name__) \n",
    "\n",
    "if __name__ == '__main__':\n",
    "    app.run(debug=True, port=5000)\n",
    "```"
   ]
  },
  {
   "attachments": {},
   "cell_type": "markdown",
   "id": "20a3e191-2d1d-42f2-b620-ab8d4535fe5f",
   "metadata": {},
   "source": [
    "To run the app, you can open your terminal, go to the specific folder and run `python app.py` using your designated virtual environment"
   ]
  },
  {
   "attachments": {},
   "cell_type": "markdown",
   "id": "b7bd4362-55ad-48e7-9ed5-a9efb269d191",
   "metadata": {},
   "source": [
    "## Routes and Endpoints"
   ]
  },
  {
   "attachments": {},
   "cell_type": "markdown",
   "id": "87f78576-5db9-40cc-9ccf-5f865caf0689",
   "metadata": {},
   "source": [
    "### Implement endpoints"
   ]
  },
  {
   "attachments": {},
   "cell_type": "markdown",
   "id": "e52ff12b-2613-4a15-ad98-5cf8881eb5ed",
   "metadata": {},
   "source": [
    "If you succesfully run the previous app and access the localhost:5000 , you might get an 404 not found error. This is because we **have not** define yet what will happen if people accessing our root path of the app (localhost:5000/)\n",
    "\n",
    "Add the following example of route or endpoint into your `app.py` just before the `if __name__ === '__main__':` line, and reload the page to see if it works"
   ]
  },
  {
   "attachments": {},
   "cell_type": "markdown",
   "id": "6870c3db-a88d-4ae6-a791-04f9e212f3f8",
   "metadata": {},
   "source": [
    "```python \n",
    "@app.route('/')\n",
    "def home():\n",
    "    return 'Hello World'\n",
    "```"
   ]
  },
  {
   "attachments": {},
   "cell_type": "markdown",
   "id": "f23f1514-2ea7-4699-9b3c-b8ba2ee608eb",
   "metadata": {},
   "source": [
    "Above endpoints will runs the `home` function anytime user access the `/` page.\n",
    "\n",
    "Since we are going to handle all the requests through this app, the very next step is to implement our functionalites. Let's start with implementing the functionality to read all station data\n",
    "\n",
    "we will add the `get_all_stations()` functions into our app, create a `@app.route('/stations/')` endpoint and call the function in it. The code should looks like:\n",
    "\n",
    "```python \n",
    "@app.route('/stations/')\n",
    "def route_all_stations():\n",
    "    conn = make_connection()\n",
    "    stations = get_all_stations(conn)\n",
    "    return stations.to_json()\n",
    "    \n",
    "def get_all_stations(conn):\n",
    "    query = f\"\"\"SELECT * FROM stations\"\"\"\n",
    "    result = pd.read_sql_query(query, conn)\n",
    "    return result\n",
    "```"
   ]
  },
  {
   "attachments": {},
   "cell_type": "markdown",
   "id": "11a81990-4add-4a66-8771-4832866f938b",
   "metadata": {},
   "source": [
    "However, adding just above codes is not enough. If you see, there is a dependency inside the function, which is `make_connection()` function. Other than that, we will be using all the required libraries. \n",
    "\n",
    "Hence, we can complete the code by : \n",
    "- import the required libraries at the top of the `app.py` file\n",
    "- write the `make_connection()` function before any routes declarations"
   ]
  },
  {
   "attachments": {},
   "cell_type": "markdown",
   "id": "536b16f2-1cc4-4605-88ae-feee9cc6eec7",
   "metadata": {},
   "source": [
    "Once it's completed, you should see no errors in the vscode screen, and your endpoint should work just fine and returns all the stations. It's now your task to impelement the `get_all_trips` into the app "
   ]
  },
  {
   "attachments": {},
   "cell_type": "markdown",
   "id": "c8eec277-fdd5-4367-83e5-f6916794b186",
   "metadata": {},
   "source": [
    "**TASK: Implement `get_all_trips()` method into the app** \\\n",
    "Place it under `@app.route('/trips/')` endpoint"
   ]
  },
  {
   "cell_type": "code",
   "execution_count": null,
   "id": "5ee8aed5",
   "metadata": {},
   "outputs": [],
   "source": [
    "# your code\n",
    "@app.route('/trips/')\n",
    "def route_all_trips():\n",
    "    conn = make_connection()\n",
    "    trips = get_all_trips(conn)\n",
    "    return trips.to_json()"
   ]
  },
  {
   "attachments": {},
   "cell_type": "markdown",
   "id": "bc45734a-5d15-4e4c-837f-64ab1cafdde6",
   "metadata": {},
   "source": [
    "### Access Endpoints"
   ]
  },
  {
   "attachments": {},
   "cell_type": "markdown",
   "id": "43143d5d-a361-4141-8f35-2b47f112075a",
   "metadata": {},
   "source": [
    "To access our endpoints using python, simply use `requests` library followed by the request method (post, get, put, delete, etc) the passed in the url or data "
   ]
  },
  {
   "cell_type": "code",
   "execution_count": 6,
   "id": "f1a3ebbe-591d-4b38-b858-6ef1ea787d74",
   "metadata": {},
   "outputs": [],
   "source": [
    "url = 'http://127.0.0.1:5000/stations/'\n",
    "res = requests.get(url)"
   ]
  },
  {
   "cell_type": "code",
   "execution_count": 7,
   "id": "64a3ec96",
   "metadata": {},
   "outputs": [
    {
     "data": {
      "text/plain": [
       "<Response [200]>"
      ]
     },
     "execution_count": 7,
     "metadata": {},
     "output_type": "execute_result"
    }
   ],
   "source": [
    "res"
   ]
  },
  {
   "attachments": {},
   "cell_type": "markdown",
   "id": "9a74d722-50f9-4c1c-9fca-ab8708cf9848",
   "metadata": {},
   "source": [
    "The response sent by the server was not only contains bare data. It was packed as HTTP response, meaning that we need to unpack the response first  in order to get the data. we can use `res.json()` to obtain it, then use pandas to transform it into dataframe for readibility or future analysis purposes. "
   ]
  },
  {
   "cell_type": "code",
   "execution_count": 20,
   "id": "c2b40a51-3e8f-4991-b58e-70cb3b95f345",
   "metadata": {},
   "outputs": [
    {
     "data": {
      "text/html": [
       "<div>\n",
       "<style scoped>\n",
       "    .dataframe tbody tr th:only-of-type {\n",
       "        vertical-align: middle;\n",
       "    }\n",
       "\n",
       "    .dataframe tbody tr th {\n",
       "        vertical-align: top;\n",
       "    }\n",
       "\n",
       "    .dataframe thead th {\n",
       "        text-align: right;\n",
       "    }\n",
       "</style>\n",
       "<table border=\"1\" class=\"dataframe\">\n",
       "  <thead>\n",
       "    <tr style=\"text-align: right;\">\n",
       "      <th></th>\n",
       "      <th>station_id</th>\n",
       "      <th>name</th>\n",
       "      <th>status</th>\n",
       "      <th>address</th>\n",
       "      <th>alternate_name</th>\n",
       "      <th>city_asset_number</th>\n",
       "      <th>property_type</th>\n",
       "      <th>number_of_docks</th>\n",
       "      <th>power_type</th>\n",
       "      <th>footprint_length</th>\n",
       "      <th>footprint_width</th>\n",
       "      <th>notes</th>\n",
       "      <th>council_district</th>\n",
       "      <th>modified_date</th>\n",
       "    </tr>\n",
       "  </thead>\n",
       "  <tbody>\n",
       "    <tr>\n",
       "      <th>0</th>\n",
       "      <td>3464</td>\n",
       "      <td>Pease Park</td>\n",
       "      <td>closed</td>\n",
       "      <td>1155 Kingsbury St</td>\n",
       "      <td></td>\n",
       "      <td></td>\n",
       "      <td></td>\n",
       "      <td></td>\n",
       "      <td></td>\n",
       "      <td></td>\n",
       "      <td></td>\n",
       "      <td></td>\n",
       "      <td>9</td>\n",
       "      <td>2021-01-04T12:00:00Z</td>\n",
       "    </tr>\n",
       "    <tr>\n",
       "      <th>1</th>\n",
       "      <td>2500</td>\n",
       "      <td>Republic Square</td>\n",
       "      <td>closed</td>\n",
       "      <td>425 W 4th Street</td>\n",
       "      <td></td>\n",
       "      <td></td>\n",
       "      <td></td>\n",
       "      <td></td>\n",
       "      <td></td>\n",
       "      <td></td>\n",
       "      <td></td>\n",
       "      <td></td>\n",
       "      <td>9</td>\n",
       "      <td>2021-01-04T12:00:00Z</td>\n",
       "    </tr>\n",
       "    <tr>\n",
       "      <th>2</th>\n",
       "      <td>2536</td>\n",
       "      <td>Waller &amp; 6th St.</td>\n",
       "      <td>closed</td>\n",
       "      <td>602 Waller St.</td>\n",
       "      <td></td>\n",
       "      <td></td>\n",
       "      <td></td>\n",
       "      <td></td>\n",
       "      <td></td>\n",
       "      <td></td>\n",
       "      <td></td>\n",
       "      <td></td>\n",
       "      <td>3</td>\n",
       "      <td>2021-01-04T12:00:00Z</td>\n",
       "    </tr>\n",
       "    <tr>\n",
       "      <th>3</th>\n",
       "      <td>2538</td>\n",
       "      <td>Bullock Museum @ Congress &amp; MLK</td>\n",
       "      <td>closed</td>\n",
       "      <td>1881 Congress Ave.</td>\n",
       "      <td></td>\n",
       "      <td></td>\n",
       "      <td></td>\n",
       "      <td></td>\n",
       "      <td></td>\n",
       "      <td></td>\n",
       "      <td></td>\n",
       "      <td></td>\n",
       "      <td>1</td>\n",
       "      <td>2021-01-04T12:00:00Z</td>\n",
       "    </tr>\n",
       "    <tr>\n",
       "      <th>4</th>\n",
       "      <td>2541</td>\n",
       "      <td>State Capitol @ 14th &amp; Colorado</td>\n",
       "      <td>closed</td>\n",
       "      <td>206 W. 14th St.</td>\n",
       "      <td></td>\n",
       "      <td></td>\n",
       "      <td></td>\n",
       "      <td></td>\n",
       "      <td></td>\n",
       "      <td></td>\n",
       "      <td></td>\n",
       "      <td></td>\n",
       "      <td>1</td>\n",
       "      <td>2021-01-04T12:00:00Z</td>\n",
       "    </tr>\n",
       "    <tr>\n",
       "      <th>5</th>\n",
       "      <td>2545</td>\n",
       "      <td>ACC - Rio Grande &amp; 12th</td>\n",
       "      <td>closed</td>\n",
       "      <td>700 W. 12th St.</td>\n",
       "      <td></td>\n",
       "      <td></td>\n",
       "      <td></td>\n",
       "      <td></td>\n",
       "      <td></td>\n",
       "      <td></td>\n",
       "      <td></td>\n",
       "      <td></td>\n",
       "      <td>9</td>\n",
       "      <td>2021-01-04T12:00:00Z</td>\n",
       "    </tr>\n",
       "    <tr>\n",
       "      <th>6</th>\n",
       "      <td>2546</td>\n",
       "      <td>ACC - West &amp; 12th Street</td>\n",
       "      <td>closed</td>\n",
       "      <td>1231 West Ave.</td>\n",
       "      <td></td>\n",
       "      <td></td>\n",
       "      <td></td>\n",
       "      <td></td>\n",
       "      <td></td>\n",
       "      <td></td>\n",
       "      <td></td>\n",
       "      <td></td>\n",
       "      <td>9</td>\n",
       "      <td>2021-01-04T12:00:00Z</td>\n",
       "    </tr>\n",
       "    <tr>\n",
       "      <th>7</th>\n",
       "      <td>2550</td>\n",
       "      <td>Republic Square @ Guadalupe &amp; 4th St.</td>\n",
       "      <td>closed</td>\n",
       "      <td>Presented by Austin Ventures</td>\n",
       "      <td></td>\n",
       "      <td></td>\n",
       "      <td></td>\n",
       "      <td></td>\n",
       "      <td></td>\n",
       "      <td></td>\n",
       "      <td></td>\n",
       "      <td></td>\n",
       "      <td>9</td>\n",
       "      <td>2021-01-04T12:00:00Z</td>\n",
       "    </tr>\n",
       "  </tbody>\n",
       "</table>\n",
       "</div>"
      ],
      "text/plain": [
       "   station_id                                   name  status   \n",
       "0        3464                             Pease Park  closed  \\\n",
       "1        2500                        Republic Square  closed   \n",
       "2        2536                       Waller & 6th St.  closed   \n",
       "3        2538        Bullock Museum @ Congress & MLK  closed   \n",
       "4        2541        State Capitol @ 14th & Colorado  closed   \n",
       "5        2545                ACC - Rio Grande & 12th  closed   \n",
       "6        2546               ACC - West & 12th Street  closed   \n",
       "7        2550  Republic Square @ Guadalupe & 4th St.  closed   \n",
       "\n",
       "                        address alternate_name city_asset_number   \n",
       "0             1155 Kingsbury St                                   \\\n",
       "1              425 W 4th Street                                    \n",
       "2                602 Waller St.                                    \n",
       "3            1881 Congress Ave.                                    \n",
       "4               206 W. 14th St.                                    \n",
       "5               700 W. 12th St.                                    \n",
       "6                1231 West Ave.                                    \n",
       "7  Presented by Austin Ventures                                    \n",
       "\n",
       "  property_type number_of_docks power_type footprint_length footprint_width   \n",
       "0                                                                            \\\n",
       "1                                                                             \n",
       "2                                                                             \n",
       "3                                                                             \n",
       "4                                                                             \n",
       "5                                                                             \n",
       "6                                                                             \n",
       "7                                                                             \n",
       "\n",
       "  notes  council_district         modified_date  \n",
       "0                       9  2021-01-04T12:00:00Z  \n",
       "1                       9  2021-01-04T12:00:00Z  \n",
       "2                       3  2021-01-04T12:00:00Z  \n",
       "3                       1  2021-01-04T12:00:00Z  \n",
       "4                       1  2021-01-04T12:00:00Z  \n",
       "5                       9  2021-01-04T12:00:00Z  \n",
       "6                       9  2021-01-04T12:00:00Z  \n",
       "7                       9  2021-01-04T12:00:00Z  "
      ]
     },
     "execution_count": 20,
     "metadata": {},
     "output_type": "execute_result"
    }
   ],
   "source": [
    "pd.DataFrame(res.json())#.head()"
   ]
  },
  {
   "cell_type": "code",
   "execution_count": 24,
   "id": "b7b8bf69",
   "metadata": {},
   "outputs": [
    {
     "data": {
      "text/plain": [
       "<Response [200]>"
      ]
     },
     "execution_count": 24,
     "metadata": {},
     "output_type": "execute_result"
    }
   ],
   "source": [
    "url = 'http://127.0.0.1:5000/trips/'\n",
    "res = requests.get(url)\n",
    "res"
   ]
  },
  {
   "cell_type": "code",
   "execution_count": 25,
   "id": "985b6d68",
   "metadata": {},
   "outputs": [
    {
     "data": {
      "text/html": [
       "<div>\n",
       "<style scoped>\n",
       "    .dataframe tbody tr th:only-of-type {\n",
       "        vertical-align: middle;\n",
       "    }\n",
       "\n",
       "    .dataframe tbody tr th {\n",
       "        vertical-align: top;\n",
       "    }\n",
       "\n",
       "    .dataframe thead th {\n",
       "        text-align: right;\n",
       "    }\n",
       "</style>\n",
       "<table border=\"1\" class=\"dataframe\">\n",
       "  <thead>\n",
       "    <tr style=\"text-align: right;\">\n",
       "      <th></th>\n",
       "      <th>id</th>\n",
       "      <th>subscriber_type</th>\n",
       "      <th>bikeid</th>\n",
       "      <th>start_time</th>\n",
       "      <th>start_station_id</th>\n",
       "      <th>start_station_name</th>\n",
       "      <th>end_station_id</th>\n",
       "      <th>end_station_name</th>\n",
       "      <th>duration_minutes</th>\n",
       "    </tr>\n",
       "  </thead>\n",
       "  <tbody>\n",
       "    <tr>\n",
       "      <th>0</th>\n",
       "      <td>9900289692</td>\n",
       "      <td>Walk Up</td>\n",
       "      <td>248</td>\n",
       "      <td>2015-10-02 21:12:01 UTC</td>\n",
       "      <td>1006</td>\n",
       "      <td>Zilker Park West</td>\n",
       "      <td>1008</td>\n",
       "      <td>Nueces @ 3rd</td>\n",
       "      <td>39</td>\n",
       "    </tr>\n",
       "    <tr>\n",
       "      <th>1</th>\n",
       "      <td>9900285987</td>\n",
       "      <td>24-Hour Kiosk (Austin B-cycle)</td>\n",
       "      <td>446</td>\n",
       "      <td>2014-10-26 15:12:00 UTC</td>\n",
       "      <td>2712</td>\n",
       "      <td>Toomey Rd @ South Lamar</td>\n",
       "      <td>2712</td>\n",
       "      <td>Toomey Rd @ South Lamar</td>\n",
       "      <td>31</td>\n",
       "    </tr>\n",
       "    <tr>\n",
       "      <th>2</th>\n",
       "      <td>9900285989</td>\n",
       "      <td>24-Hour Kiosk (Austin B-cycle)</td>\n",
       "      <td>203</td>\n",
       "      <td>2014-10-26 15:12:00 UTC</td>\n",
       "      <td>2712</td>\n",
       "      <td>Toomey Rd @ South Lamar</td>\n",
       "      <td>2712</td>\n",
       "      <td>Toomey Rd @ South Lamar</td>\n",
       "      <td>31</td>\n",
       "    </tr>\n",
       "    <tr>\n",
       "      <th>3</th>\n",
       "      <td>9900285991</td>\n",
       "      <td>24-Hour Kiosk (Austin B-cycle)</td>\n",
       "      <td>101</td>\n",
       "      <td>2014-10-26 15:12:00 UTC</td>\n",
       "      <td>2712</td>\n",
       "      <td>Toomey Rd @ South Lamar</td>\n",
       "      <td>2712</td>\n",
       "      <td>Toomey Rd @ South Lamar</td>\n",
       "      <td>30</td>\n",
       "    </tr>\n",
       "    <tr>\n",
       "      <th>4</th>\n",
       "      <td>9900286140</td>\n",
       "      <td>24-Hour Kiosk (Austin B-cycle)</td>\n",
       "      <td>242</td>\n",
       "      <td>2014-10-26 18:12:00 UTC</td>\n",
       "      <td>2541</td>\n",
       "      <td>State Capitol @ 14th &amp; Colorado</td>\n",
       "      <td>2541</td>\n",
       "      <td>State Capitol @ 14th &amp; Colorado</td>\n",
       "      <td>19</td>\n",
       "    </tr>\n",
       "  </tbody>\n",
       "</table>\n",
       "</div>"
      ],
      "text/plain": [
       "           id                 subscriber_type bikeid               start_time   \n",
       "0  9900289692                         Walk Up    248  2015-10-02 21:12:01 UTC  \\\n",
       "1  9900285987  24-Hour Kiosk (Austin B-cycle)    446  2014-10-26 15:12:00 UTC   \n",
       "2  9900285989  24-Hour Kiosk (Austin B-cycle)    203  2014-10-26 15:12:00 UTC   \n",
       "3  9900285991  24-Hour Kiosk (Austin B-cycle)    101  2014-10-26 15:12:00 UTC   \n",
       "4  9900286140  24-Hour Kiosk (Austin B-cycle)    242  2014-10-26 18:12:00 UTC   \n",
       "\n",
       "  start_station_id               start_station_name end_station_id   \n",
       "0             1006                 Zilker Park West           1008  \\\n",
       "1             2712          Toomey Rd @ South Lamar           2712   \n",
       "2             2712          Toomey Rd @ South Lamar           2712   \n",
       "3             2712          Toomey Rd @ South Lamar           2712   \n",
       "4             2541  State Capitol @ 14th & Colorado           2541   \n",
       "\n",
       "                  end_station_name  duration_minutes  \n",
       "0                     Nueces @ 3rd                39  \n",
       "1          Toomey Rd @ South Lamar                31  \n",
       "2          Toomey Rd @ South Lamar                31  \n",
       "3          Toomey Rd @ South Lamar                30  \n",
       "4  State Capitol @ 14th & Colorado                19  "
      ]
     },
     "execution_count": 25,
     "metadata": {},
     "output_type": "execute_result"
    }
   ],
   "source": [
    "pd.DataFrame(res.json()).head(5)"
   ]
  },
  {
   "attachments": {},
   "cell_type": "markdown",
   "id": "adbd0b76-5fa5-4b0e-acfa-85774528130f",
   "metadata": {},
   "source": [
    "## Static and Dynamic Endpoints"
   ]
  },
  {
   "attachments": {},
   "cell_type": "markdown",
   "id": "479eec15-63e3-421a-8227-0d46b6a7349c",
   "metadata": {},
   "source": [
    "On previous part we already made several endpoints which control how our server will react whenever users access it. \n",
    "If we take a look at the endpoints, it's all static : \n",
    "- `@app.route('/')`\n",
    "- `@app.route('/home/')`\n",
    "- `@app.route('/stations/')`\n",
    "- `@app.route('/trips/')`\n",
    "\n",
    "\n",
    "What if, instead of getting all the stations information, we only wanted to read a specific station information of station_id 3464 ? \\\n",
    "should we make an excact endpoint of that like `@app.route('stations/3464')`?. But what about the others? are we going to make a bunch of endpoints for each specific id like: \n",
    "- `@app.route('/stations/3464')`\n",
    "- `@app.route('/stations/2500')`\n",
    "- `@app.route('/stations/2541')`\n",
    "- and so on...\n",
    "\n",
    "Of course we shouldn't. One way to overcome the problem is by delcaring a **dynamic endpoints**. Basically, it's an endpoint which allows user to insert a variable values in it. The final looks of the dynamic endpoint version of above problem is: \n",
    "- `@app.route('stations/<station_id>')`\n",
    "\n",
    "From above endpoint, the \\<station_id\\> is the variable, and we need to make sure that it influence how our following function acts. The whole dynamic endpoints for getting specific station by its id will looks like: \n",
    "\n",
    "```python \n",
    "@app.route('/stations/<station_id>')\n",
    "def route_stations_id(station_id):\n",
    "    conn = make_connection()\n",
    "    station = get_station_id(station_id, conn)\n",
    "    return station.to_json()\n",
    "```\n"
   ]
  },
  {
   "attachments": {},
   "cell_type": "markdown",
   "id": "4a91fb67-4645-4097-b266-e1c8f77c8b5d",
   "metadata": {},
   "source": [
    "Before accesing the endpoint, make sure that `make_connection()` and `get_station_id()` functions are included inside `app.py` script so that it won't raise an error. Now for the final step, we can try to access the dynamic endpoints by changing the `station_id` in the following codes"
   ]
  },
  {
   "cell_type": "code",
   "execution_count": 26,
   "id": "3d97afd6-6673-46c2-9ea8-6920dca5eba4",
   "metadata": {},
   "outputs": [],
   "source": [
    "station_id = 3464\n",
    "url = f\"http://127.0.0.1:5000/stations/{station_id}\""
   ]
  },
  {
   "cell_type": "code",
   "execution_count": 27,
   "id": "c948b850-fd61-4e3c-9b54-45c8741c3d21",
   "metadata": {},
   "outputs": [
    {
     "data": {
      "text/html": [
       "<div>\n",
       "<style scoped>\n",
       "    .dataframe tbody tr th:only-of-type {\n",
       "        vertical-align: middle;\n",
       "    }\n",
       "\n",
       "    .dataframe tbody tr th {\n",
       "        vertical-align: top;\n",
       "    }\n",
       "\n",
       "    .dataframe thead th {\n",
       "        text-align: right;\n",
       "    }\n",
       "</style>\n",
       "<table border=\"1\" class=\"dataframe\">\n",
       "  <thead>\n",
       "    <tr style=\"text-align: right;\">\n",
       "      <th></th>\n",
       "      <th>station_id</th>\n",
       "      <th>name</th>\n",
       "      <th>status</th>\n",
       "      <th>address</th>\n",
       "      <th>alternate_name</th>\n",
       "      <th>city_asset_number</th>\n",
       "      <th>property_type</th>\n",
       "      <th>number_of_docks</th>\n",
       "      <th>power_type</th>\n",
       "      <th>footprint_length</th>\n",
       "      <th>footprint_width</th>\n",
       "      <th>notes</th>\n",
       "      <th>council_district</th>\n",
       "      <th>modified_date</th>\n",
       "    </tr>\n",
       "  </thead>\n",
       "  <tbody>\n",
       "    <tr>\n",
       "      <th>0</th>\n",
       "      <td>3464</td>\n",
       "      <td>Pease Park</td>\n",
       "      <td>closed</td>\n",
       "      <td>1155 Kingsbury St</td>\n",
       "      <td></td>\n",
       "      <td></td>\n",
       "      <td></td>\n",
       "      <td></td>\n",
       "      <td></td>\n",
       "      <td></td>\n",
       "      <td></td>\n",
       "      <td></td>\n",
       "      <td>9</td>\n",
       "      <td>2021-01-04T12:00:00Z</td>\n",
       "    </tr>\n",
       "  </tbody>\n",
       "</table>\n",
       "</div>"
      ],
      "text/plain": [
       "   station_id        name  status            address alternate_name   \n",
       "0        3464  Pease Park  closed  1155 Kingsbury St                 \\\n",
       "\n",
       "  city_asset_number property_type number_of_docks power_type footprint_length   \n",
       "0                                                                              \\\n",
       "\n",
       "  footprint_width notes  council_district         modified_date  \n",
       "0                                       9  2021-01-04T12:00:00Z  "
      ]
     },
     "execution_count": 27,
     "metadata": {},
     "output_type": "execute_result"
    }
   ],
   "source": [
    "response = requests.get(url)\n",
    "pd.DataFrame(response.json())"
   ]
  },
  {
   "attachments": {},
   "cell_type": "markdown",
   "id": "7c5ca64f-b5ae-4fe3-890f-71419a69bfa3",
   "metadata": {},
   "source": [
    "**TASK: Implement dynamic endpoints to read specific trip by its trip_id!** \\\n",
    "Place it under `@app.route('/trips/<trip_id>')` endpoint"
   ]
  },
  {
   "cell_type": "code",
   "execution_count": 30,
   "id": "f6f903d1",
   "metadata": {},
   "outputs": [
    {
     "data": {
      "text/html": [
       "<div>\n",
       "<style scoped>\n",
       "    .dataframe tbody tr th:only-of-type {\n",
       "        vertical-align: middle;\n",
       "    }\n",
       "\n",
       "    .dataframe tbody tr th {\n",
       "        vertical-align: top;\n",
       "    }\n",
       "\n",
       "    .dataframe thead th {\n",
       "        text-align: right;\n",
       "    }\n",
       "</style>\n",
       "<table border=\"1\" class=\"dataframe\">\n",
       "  <thead>\n",
       "    <tr style=\"text-align: right;\">\n",
       "      <th></th>\n",
       "      <th>id</th>\n",
       "      <th>subscriber_type</th>\n",
       "      <th>bikeid</th>\n",
       "      <th>start_time</th>\n",
       "      <th>start_station_id</th>\n",
       "      <th>start_station_name</th>\n",
       "      <th>end_station_id</th>\n",
       "      <th>end_station_name</th>\n",
       "      <th>duration_minutes</th>\n",
       "    </tr>\n",
       "  </thead>\n",
       "  <tbody>\n",
       "    <tr>\n",
       "      <th>0</th>\n",
       "      <td>23459960</td>\n",
       "      <td>Local365</td>\n",
       "      <td>19265</td>\n",
       "      <td>2021-01-28 08:03:52 UTC</td>\n",
       "      <td>4054</td>\n",
       "      <td>Rosewood/Chicon</td>\n",
       "      <td>4055</td>\n",
       "      <td>11th/Salina</td>\n",
       "      <td>16</td>\n",
       "    </tr>\n",
       "  </tbody>\n",
       "</table>\n",
       "</div>"
      ],
      "text/plain": [
       "         id subscriber_type bikeid               start_time  start_station_id   \n",
       "0  23459960        Local365  19265  2021-01-28 08:03:52 UTC              4054  \\\n",
       "\n",
       "  start_station_name  end_station_id end_station_name  duration_minutes  \n",
       "0    Rosewood/Chicon            4055     11th/Salina                 16  "
      ]
     },
     "execution_count": 30,
     "metadata": {},
     "output_type": "execute_result"
    }
   ],
   "source": [
    "trip_id = 23459960\n",
    "url = f\"http://127.0.0.1:5000/trips/{trip_id}\"\n",
    "response = requests.get(url)\n",
    "pd.DataFrame(response.json())"
   ]
  },
  {
   "attachments": {},
   "cell_type": "markdown",
   "id": "52ec2ce8-6950-4c20-9bdb-38e35311d26a",
   "metadata": {},
   "source": [
    "## Handling JSON data as input"
   ]
  },
  {
   "attachments": {},
   "cell_type": "markdown",
   "id": "d694cb3a-c753-4aeb-880f-458236146532",
   "metadata": {},
   "source": [
    "Sometimes, in order to make something happens in our API, we need the user to send us the data. In this case, we need to handle how we can get the data (which mostly sent as json format) and utilize it inside our endpoint functions. \n",
    "\n",
    "In order to achieve that, we will be using flask's `request` classes.\n",
    "\n",
    "\n",
    "```python\n",
    "@app.route('/json') \n",
    "def json_example():\n",
    "    \n",
    "    req = request.get_json(force=True) # Parse the incoming json data as Dictionary\n",
    "    \n",
    "    name = req['name']\n",
    "    age = req['age']\n",
    "    address = req['address']\n",
    "    \n",
    "    return (f'''Hello {name}, your age is {age}, and your address in {address}\n",
    "            ''')\n",
    "```"
   ]
  },
  {
   "cell_type": "code",
   "execution_count": 18,
   "id": "33519e1a-3cd1-4abc-9a20-c2d981fad894",
   "metadata": {},
   "outputs": [],
   "source": [
    "data = {\n",
    "    \"name\" : \"Andi\", \n",
    "    \"age\" : 24,\n",
    "    \"address\" : \"Jakarta, Indonesia\"\n",
    "}\n",
    "\n",
    "url = \"http://127.0.0.1:5000/json\""
   ]
  },
  {
   "cell_type": "code",
   "execution_count": 19,
   "id": "9b66724f-6439-4aec-a8b5-48b4a781521b",
   "metadata": {
    "scrolled": false
   },
   "outputs": [],
   "source": [
    "res = requests.get(url, json=data)"
   ]
  },
  {
   "cell_type": "code",
   "execution_count": 20,
   "id": "3e0f21c9-402a-4b12-bcc7-4c4534f23e5c",
   "metadata": {},
   "outputs": [
    {
     "data": {
      "text/plain": [
       "<Response [200]>"
      ]
     },
     "execution_count": 20,
     "metadata": {},
     "output_type": "execute_result"
    }
   ],
   "source": [
    "res"
   ]
  },
  {
   "cell_type": "code",
   "execution_count": 21,
   "id": "59d76173-58d9-4e38-a50d-a1ac72c3519f",
   "metadata": {},
   "outputs": [
    {
     "data": {
      "text/plain": [
       "'Hello Andi, your age is 24, and your address in Jakarta, Indonesia\\n            '"
      ]
     },
     "execution_count": 21,
     "metadata": {},
     "output_type": "execute_result"
    }
   ],
   "source": [
    "res.text"
   ]
  },
  {
   "attachments": {},
   "cell_type": "markdown",
   "id": "188e3467-bff8-4919-bc90-a86cb8c4eaff",
   "metadata": {},
   "source": [
    "Now that we already know how to handle json input, we can try to implement and endpoint in which we can insert new data into `stations` table. "
   ]
  },
  {
   "attachments": {},
   "cell_type": "markdown",
   "id": "1729b881-beac-48ef-bc19-01cda9a6d77a",
   "metadata": {},
   "source": [
    "```python\n",
    "\n",
    "@app.route('/stations/add', methods=['POST']) \n",
    "def route_add_station():\n",
    "    # parse and transform incoming data into a tuple as we need \n",
    "    data = pd.Series(eval(request.get_json(force=True)))\n",
    "    data = tuple(data.fillna('').values)\n",
    "    \n",
    "    conn = make_connection()\n",
    "    result = insert_into_stations(data, conn)\n",
    "    return result\n",
    "\n",
    "\n",
    "```"
   ]
  },
  {
   "cell_type": "code",
   "execution_count": 26,
   "id": "00348fc5-105b-41c7-a5e6-e69e1c19b4fa",
   "metadata": {},
   "outputs": [],
   "source": [
    "class NpEncoder(json.JSONEncoder):\n",
    "    def default(self, obj):\n",
    "        if isinstance(obj, np.integer):\n",
    "            return int(obj)\n",
    "        if isinstance(obj, np.floating):\n",
    "            return float(obj)\n",
    "        if isinstance(obj, np.ndarray):\n",
    "            return obj.tolist()\n",
    "        return super(NpEncoder, self).default(obj)"
   ]
  },
  {
   "cell_type": "code",
   "execution_count": 9,
   "id": "12746054-6c95-4a95-a6a0-37a2dc24c347",
   "metadata": {},
   "outputs": [
    {
     "data": {
      "text/plain": [
       "'{\"station_id\": 3687, \"name\": \"Boardwalk West\", \"status\": \"active\", \"address\": \"300 E. Riverside Dr.\", \"alternate_name\": \"\", \"city_asset_number\": 16683.0, \"property_type\": \"parkland\", \"number_of_docks\": 9.0, \"power_type\": \"solar\", \"footprint_length\": 30.0, \"footprint_width\": 5.0, \"notes\": \"\", \"council_district\": 9, \"modified_date\": \"2021-01-04T12:00:00Z\"}'"
      ]
     },
     "execution_count": 9,
     "metadata": {},
     "output_type": "execute_result"
    }
   ],
   "source": [
    "data = stations.iloc[21].fillna('').to_dict()\n",
    "data_json = json.dumps(data, cls=NpEncoder)\n",
    "data_json"
   ]
  },
  {
   "cell_type": "code",
   "execution_count": 10,
   "id": "b9eef315-96d2-46e3-b5ab-07d34e299629",
   "metadata": {},
   "outputs": [],
   "source": [
    "url = \"http://127.0.0.1:5000/stations/add\"\n",
    "res = requests.post(url, json=data_json)"
   ]
  },
  {
   "cell_type": "code",
   "execution_count": 11,
   "id": "fa80e62f-75c4-47f5-a0fb-3eaa08200b66",
   "metadata": {},
   "outputs": [
    {
     "data": {
      "text/plain": [
       "<Response [200]>"
      ]
     },
     "execution_count": 11,
     "metadata": {},
     "output_type": "execute_result"
    }
   ],
   "source": [
    "res"
   ]
  },
  {
   "cell_type": "code",
   "execution_count": 48,
   "id": "8996edb2",
   "metadata": {},
   "outputs": [
    {
     "data": {
      "text/plain": [
       "'OK'"
      ]
     },
     "execution_count": 48,
     "metadata": {},
     "output_type": "execute_result"
    }
   ],
   "source": [
    "res.text"
   ]
  },
  {
   "cell_type": "code",
   "execution_count": 49,
   "id": "7a0d3ece-e370-4861-9c03-31361c394c01",
   "metadata": {},
   "outputs": [
    {
     "name": "stderr",
     "output_type": "stream",
     "text": [
      "98it [00:00, 134.44it/s]\n"
     ]
    }
   ],
   "source": [
    "# Sintaks for iteratively insert stations (from stations_csv) into stations table\n",
    "\n",
    "for idx, data in tqdm(stations.iterrows()):\n",
    "    data = data.fillna('').to_dict()\n",
    "    data_json = json.dumps(data, cls=NpEncoder)\n",
    "    \n",
    "    url = \"http://127.0.0.1:5000/stations/add\"\n",
    "    res = requests.post(url, json=data_json)"
   ]
  },
  {
   "attachments": {},
   "cell_type": "markdown",
   "id": "f7d0f146-9af5-4873-816e-d7a1990d0d2e",
   "metadata": {},
   "source": [
    "**TASK: Using the API, insert all the trips data (in csv) into the database by running the following codes**\\\n",
    "It might run differently on each devices, so you might get some rest while waiting for it to complete"
   ]
  },
  {
   "cell_type": "code",
   "execution_count": 50,
   "id": "f943160a-230d-4548-8685-25c17d8f0641",
   "metadata": {},
   "outputs": [
    {
     "name": "stderr",
     "output_type": "stream",
     "text": [
      "17982it [03:07, 95.95it/s] \n"
     ]
    }
   ],
   "source": [
    "for idx, data in tqdm(trips.iterrows()):\n",
    "    data = data.fillna('').to_dict()\n",
    "    data_json = json.dumps(data, cls=NpEncoder)\n",
    "    \n",
    "    url = \"http://127.0.0.1:5000/trips/add\"\n",
    "    res = requests.post(url, json=data_json)"
   ]
  },
  {
   "cell_type": "code",
   "execution_count": 51,
   "id": "7f4adf19",
   "metadata": {},
   "outputs": [
    {
     "data": {
      "text/plain": [
       "<Response [200]>"
      ]
     },
     "execution_count": 51,
     "metadata": {},
     "output_type": "execute_result"
    }
   ],
   "source": [
    "res"
   ]
  },
  {
   "attachments": {},
   "cell_type": "markdown",
   "id": "e9ca0d0f-f38d-4ce2-b7e2-961452ab315e",
   "metadata": {},
   "source": [
    "# Make your own analytic endpoints"
   ]
  },
  {
   "attachments": {},
   "cell_type": "markdown",
   "id": "7a8500f2-9e2f-4515-8ce1-ce4a581132b5",
   "metadata": {},
   "source": [
    "Based on what we've learned before, create your own endpoints which returns analytical result such as contigency tables, aggregation tables, or even just a values.\n",
    "\n",
    "*ps: if the return is dataframe/series, don't forget to change it into json with `.to_json()` method*"
   ]
  },
  {
   "attachments": {},
   "cell_type": "markdown",
   "id": "ce22ac68-1a8d-4030-9a9a-1764a074dde5",
   "metadata": {},
   "source": [
    "\n",
    "- [x] 1 point - Created Flask App\n",
    "- [x] 4 points - Created functionality to input new data into each table for the databases\n",
    "- [x] 2 poitns - Created functionality to read or get specific data from the database\n",
    "- [ ] 3 points - Created static endpoints which return analytical result (must be different from point 2,3)\n",
    "- [ ] 3 points - Created dynamic endpoints which return analytical result (must be different from point 2,3,4)\n",
    "- [ ] 3 points - Created POST endpoint which receive input data, then utilize it to get analytical result (must be different from point 2,3,4,5)\n"
   ]
  },
  {
   "attachments": {},
   "cell_type": "markdown",
   "id": "9349b196-e43e-4bbc-8d71-75c2f957d9af",
   "metadata": {},
   "source": [
    "## Create Static Endpoint(s)"
   ]
  },
  {
   "attachments": {},
   "cell_type": "markdown",
   "id": "0ba0e764-89a5-4189-a24a-837c8fbf304c",
   "metadata": {},
   "source": [
    "You can use the following cell to try-out your function before implementing it as an endpoint.\n",
    "\n",
    "After created the endpoint, make sure to implement it to `app.py` file."
   ]
  },
  {
   "cell_type": "code",
   "execution_count": null,
   "id": "54806367",
   "metadata": {},
   "outputs": [],
   "source": [
    "# Your Code Here \n",
    "@app.route('/trips/average_duration/') \n",
    "def route_average_stations():\n",
    "    conn = make_connection()\n",
    "    average_time_to_each_stations = get_average_duration(conn)\n",
    "    return average_time_to_each_stations"
   ]
  },
  {
   "cell_type": "code",
   "execution_count": 17,
   "id": "41b0468f",
   "metadata": {},
   "outputs": [
    {
     "data": {
      "text/plain": [
       "'{\"duration_minutes\":{\"10th & Red River\":64.1894150418,\"10th\\\\/Red River\":75.1933333333,\"11th & Salina\":46.9446721311,\"11th & Salina \":71.8421733506,\"11th & San Jacinto\":40.7670979667,\"11th\\\\/Congress @ The Texas Capitol\":68.0450653447,\"11th\\\\/Salina \":60.1012345679,\"11th\\\\/San Jacinto\":56.4087481146,\"12th\\\\/San Jacinto @ State Capitol Visitors Garage\":50.4222689076,\"13th & San Antonio\":34.8101659751,\"13th\\\\/San Antonio\":47.1952861953,\"16th\\\\/San Antonio\":35.8103448276,\"17th & Guadalupe\":28.473956044,\"17th\\\\/Guadalupe\":97.4742014742,\"21st & Speedway @PCL\":14.0697355273,\"21st & University\":16.8311748999,\"21st\\\\/Guadalupe\":25.9109892978,\"21st\\\\/Speedway @ PCL\":15.6476297126,\"21st\\\\/University\":22.8025066464,\"22nd & Pearl\":16.2504724906,\"22nd\\\\/Pearl\":31.7579439252,\"23rd & Rio Grande\":32.288529631,\"23rd & San Jacinto @ DKR Stadium\":17.5012231976,\"23rd\\\\/Rio Grande\":55.1081935327,\"23rd\\\\/San Jacinto @ DKR Stadium\":32.6774801962,\"26th\\\\/Nueces\":39.4704264099,\"28th\\\\/Rio Grande\":34.2625686059,\"2nd & Congress\":29.6631738839,\"2nd\\\\/Congress\":53.3991458607,\"2nd\\\\/Lavaca @ City Hall\":36.1078965283,\"3rd & West\":18.0565888589,\"3rd\\\\/Nueces\":45.9755114693,\"3rd\\\\/Trinity @ The Convention Center\":45.7724851144,\"3rd\\\\/West\":37.3844487763,\"4th & Congress\":22.0990351873,\"4th\\\\/Congress\":31.3536532642,\"4th\\\\/Guadalupe @ Republic Square\":60.2449113592,\"4th\\\\/Neches @ MetroRail Downtown\":294.9565217391,\"4th\\\\/Sabine\":33.0,\"5th & Bowie\":21.5584729924,\"5th & Campbell\":71.4288659794,\"5th & San Marcos\":21.6659625405,\"5th\\\\/Bowie\":37.3381971466,\"5th\\\\/Campbell\":54.675,\"5th\\\\/Guadalupe @ Republic Square\":63.1277258567,\"6th & Chalmers\":31.3333333333,\"6th & Chalmers \":33.4131355932,\"6th & Congress\":34.4530181902,\"6th & Navasota St.\":29.980620155,\"6th\\\\/Brazos\":52.9740184758,\"6th\\\\/Chalmers \":48.6260504202,\"6th\\\\/Congress\":59.2932832708,\"6th\\\\/Lavaca\":65.4417862839,\"6th\\\\/Trinity\":87.2090261283,\"6th\\\\/West\":51.029245283,\"8th & Congress\":25.6981066528,\"8th & Guadalupe\":30.497098646,\"8th & Lavaca\":78.341991342,\"8th\\\\/Congress\":43.1034749035,\"8th\\\\/Lavaca\":35.0847457627,\"8th\\\\/Red River\":41.8063241107,\"8th\\\\/San Jacinto\":39.3609129815,\"9th\\\\/Henderson\":87.4630177515,\"ACC - Rio Grande & 12th\":22.4613636364,\"ACC - West & 12th\":30.8722527473,\"ACC - West & 12th Street\":30.2758119244,\"ACL 2019 Drop Off\":23.0336134454,\"Barton Springs & Riverside\":30.773766427,\"Barton Springs @ Kinney Ave\":32.2089256793,\"Barton Springs Pool\":37.3118915721,\"Barton Springs\\\\/Bouldin @ Palmer Auditorium\":43.3453900709,\"Barton Springs\\\\/Kinney\":47.531150523,\"Boardwalk West\":52.8335774059,\"Brazos & 6th\":30.6221780491,\"Bullock Museum @ Congress & MLK\":28.4981757223,\"Capital Metro HQ - East 5th at Broadway\":35.1831140351,\"Capitol Station \\\\/ Congress & 11th\":31.4954844181,\"Cesar Chavez\\\\/Congress\":58.3752039152,\"City Hall \\\\/ Lavaca & 2nd\":25.8407429456,\"Congress & Cesar Chavez\":39.1299073294,\"Convention Center \\\\/ 3rd & Trinity\":29.8403140108,\"Convention Center \\\\/ 4th St. @ MetroRail\":23.7047044987,\"Convention Center\\\\/ 3rd & Trinity\":34.5856164384,\"Customer Service\":255.9868421053,\"Davis at Rainey Street\":30.6655310943,\"Dean Keeton & Speedway\":11.3629807692,\"Dean Keeton & Speedway \":14.3685916323,\"Dean Keeton & Whitis\":14.417902318,\"Dean Keeton\\\\/Speedway\":32.0112,\"Dean Keeton\\\\/Speedway \":15.6178951228,\"Dean Keeton\\\\/Whitis\":45.0243174061,\"Earth Day ATX 2017\":19.5,\"East 11th St. & San Marcos\":27.8398215282,\"East 11th St. at Victory Grill\":31.3417602996,\"East 11th Street at Victory Grill\":43.270696452,\"East 11th\\\\/San Marcos\":54.4534231201,\"East 11th\\\\/Victory Grill\":54.8513853904,\"East 2nd & Pedernales\":37.3389247312,\"East 2nd\\\\/Pedernales\":40.3951701427,\"East 4th & Chicon\":33.3685290404,\"East 4th\\\\/Chicon\":48.8318135765,\"East 5th\\\\/Broadway @ Capital Metro HQ\":59.793828892,\"East 5th\\\\/Shady @ Eastside Bus Plaza\":44.8666666667,\"East 5th\\\\/Shady Ln\":364.1578947368,\"East 6th & Pedernales St.\":33.1640184521,\"East 6th at Robert Martinez\":24.3244912791,\"East 6th\\\\/Medina\":36.6457112413,\"East 6th\\\\/Pedernales\":56.6697713802,\"East 6th\\\\/Robert T. Martinez\":57.1047865459,\"East 7th & Pleasant Valley\":22.5980392157,\"Eeyore\\'s 2017\":19.5,\"Electric Drive\\\\/Sandra Muraida Way @ Pfluger Ped Bridge\":55.529778672,\"Fantasy Zilker\":1243.7575757576,\"Guadalupe & 21st\":19.9459071326,\"Guadalupe & 6th\":27.2650862069,\"Guadalupe\\\\/West Mall @ University Co-op\":31.2062833432,\"Henderson & 9th\":40.5921131848,\"Hollow Creek & Barton Hills\":98.3925925926,\"Hollow Creek\\\\/Barton Hills\":108.7882703777,\"Lake Austin & Enfield\":43.7389240506,\"Lake Austin Blvd @ Deep Eddy\":40.4467889908,\"Lake Austin Blvd\\\\/Deep Eddy\":44.5333333333,\"Lake Austin\\\\/Enfield\":46.6984771574,\"Lakeshore & Pleasant Valley\":67.7132551849,\"Lakeshore @ Austin Hostel\":54.9768299105,\"Lakeshore\\\\/Austin Hostel\":65.3228803717,\"Lakeshore\\\\/Pleasant Valley\":55.1080514816,\"Lavaca & 6th\":26.875884434,\"Long Center @ South 1st & Riverside\":30.6459798887,\"Main Office\":154.6315789474,\"Main Shop\":6379.5,\"MapJam at French Legation\":36.5172413793,\"MapJam at Hops & Grain Brewery\":33.6923076923,\"MapJam at Pan Am Park\":24.0512820513,\"MapJam at Scoot Inn\":14.5789473684,\"Marketing Event\":36.6666666667,\"Medina & East 6th\":28.033245635,\"Missing\":2531.48,\"MoPac Pedestrian Bridge @ Veterans Drive\":43.3747923853,\"Mobile Station\":18.4375690608,\"Mobile Station @ Bike Fest\":20.3773584906,\"Mobile Station @ Boardwalk Opening Ceremony\":27.25,\"Mobile Station @ Unplugged\":21.6153846154,\"Nash Hernandez @ RBJ South\":71.0465116279,\"Nash Hernandez\\\\/East @ RBJ South\":63.319902744,\"Nueces & 26th\":25.4152917505,\"Nueces & 3rd\":26.4698899468,\"Nueces @ 3rd\":14.3450905624,\"Palmer Auditorium\":30.8799411377,\"Pease Park\":31.8908145581,\"Pfluger Bridge @ W 2nd Street\":29.4415970497,\"Plaza Saltillo\":28.7335104028,\"Rainey @ River St\":26.2861975643,\"Rainey St @ Cummings\":35.6383513817,\"Rainey\\\\/Cummings\":51.7093844601,\"Rainey\\\\/Davis\":65.146366782,\"Re-branding\":1.5,\"Red River & 8th Street\":30.6817288802,\"Red River @ LBJ Library\":36.4705882353,\"Red River\\\\/Cesar Chavez @ The Fairmont\":50.3311287478,\"Repair Shop\":587.0628930818,\"Republic Square\":25.4341801386,\"Republic Square @ 5th & Guadalupe\":28.4125533211,\"Republic Square @ Federal Courthouse Plaza\":21.2577849986,\"Republic Square @ Guadalupe & 4th St.\":24.1197956577,\"Rio Grande & 28th\":18.1439301213,\"Riverside @ S. Lamar\":37.102725896,\"Riverside\\\\/South Lamar\":45.3177715531,\"Rosewood & Angelina\":99.9655172414,\"Rosewood & Chicon\":56.440433213,\"Rosewood\\\\/Angelina\":57.2195704057,\"Rosewood\\\\/Chicon\":143.2628726287,\"San Jacinto & 8th Street\":31.8434540963,\"Shop\":825.5384615385,\"South 1st\\\\/Riverside @ Long Center\":40.3896807298,\"South Congress & Academy\":30.6054981709,\"South Congress & Barton Springs at the Austin American-Statesman\":34.9254971055,\"South Congress & Elizabeth\":39.1764705882,\"South Congress & James\":34.6946474524,\"South Congress @ Bouldin Creek\":50.0557526609,\"South Congress\\\\/Academy\":40.9304123711,\"South Congress\\\\/Barton Springs @ The Austin American-Statesman\":44.7185005207,\"South Congress\\\\/Elizabeth\":66.4726507714,\"South Congress\\\\/James\":63.8928571429,\"State Capitol @ 14th & Colorado\":31.7536231884,\"State Capitol Visitors Garage @ San Jacinto & 12th\":37.73885918,\"State Parking Garage @ Brazos & 18th\":29.9120879121,\"Sterzing at Barton Springs\":40.3054672119,\"Sterzing\\\\/Barton Springs\":51.050318685,\"Stolen\":4810.8214285714,\"Toomey Rd @ South Lamar\":25.313697455,\"Trinity & 6th Street\":31.3941623743,\"UT West Mall @ Guadalupe\":26.4298808433,\"Veterans\\\\/Atlanta @ MoPac Ped Bridge\":58.388267567,\"Waller & 6th St.\":26.2852149598,\"West & 6th St.\":28.881014117,\"Zilker Park\":44.2011112664,\"Zilker Park West\":29.3060733614,\"Zilker Park at Barton Springs & William Barton Drive\":34.1442602824}}'"
      ]
     },
     "execution_count": 17,
     "metadata": {},
     "output_type": "execute_result"
    }
   ],
   "source": [
    "def get_average_duration (conn):\n",
    "    query_average_duration = f'''SELECT * FROM trips'''\n",
    "    result = pd.read_sql_query(query_average_duration, conn)\n",
    "    result_avg = pd.pivot_table(\n",
    "                    data=result,\n",
    "                    index='end_station_name',\n",
    "                    values='duration_minutes',\n",
    "                    aggfunc='mean'\n",
    "                    )\n",
    "    return result_avg.to_json()\n",
    "\n",
    "get_average_duration(conn)"
   ]
  },
  {
   "cell_type": "code",
   "execution_count": 18,
   "id": "df8bfe5a",
   "metadata": {},
   "outputs": [
    {
     "data": {
      "text/plain": [
       "<Response [200]>"
      ]
     },
     "execution_count": 18,
     "metadata": {},
     "output_type": "execute_result"
    }
   ],
   "source": [
    "url = 'http://127.0.0.1:5000/trips/average_duration'\n",
    "res = requests.get(url)\n",
    "res"
   ]
  },
  {
   "cell_type": "code",
   "execution_count": 20,
   "id": "f12b781d",
   "metadata": {},
   "outputs": [
    {
     "data": {
      "text/html": [
       "<div>\n",
       "<style scoped>\n",
       "    .dataframe tbody tr th:only-of-type {\n",
       "        vertical-align: middle;\n",
       "    }\n",
       "\n",
       "    .dataframe tbody tr th {\n",
       "        vertical-align: top;\n",
       "    }\n",
       "\n",
       "    .dataframe thead th {\n",
       "        text-align: right;\n",
       "    }\n",
       "</style>\n",
       "<table border=\"1\" class=\"dataframe\">\n",
       "  <thead>\n",
       "    <tr style=\"text-align: right;\">\n",
       "      <th></th>\n",
       "      <th>duration_minutes</th>\n",
       "    </tr>\n",
       "  </thead>\n",
       "  <tbody>\n",
       "    <tr>\n",
       "      <th>10th &amp; Red River</th>\n",
       "      <td>64.189415</td>\n",
       "    </tr>\n",
       "    <tr>\n",
       "      <th>10th/Red River</th>\n",
       "      <td>75.193333</td>\n",
       "    </tr>\n",
       "    <tr>\n",
       "      <th>11th &amp; Salina</th>\n",
       "      <td>46.944672</td>\n",
       "    </tr>\n",
       "    <tr>\n",
       "      <th>11th &amp; Salina</th>\n",
       "      <td>71.842173</td>\n",
       "    </tr>\n",
       "    <tr>\n",
       "      <th>11th &amp; San Jacinto</th>\n",
       "      <td>40.767098</td>\n",
       "    </tr>\n",
       "    <tr>\n",
       "      <th>...</th>\n",
       "      <td>...</td>\n",
       "    </tr>\n",
       "    <tr>\n",
       "      <th>Waller &amp; 6th St.</th>\n",
       "      <td>26.285215</td>\n",
       "    </tr>\n",
       "    <tr>\n",
       "      <th>West &amp; 6th St.</th>\n",
       "      <td>28.881014</td>\n",
       "    </tr>\n",
       "    <tr>\n",
       "      <th>Zilker Park</th>\n",
       "      <td>44.201111</td>\n",
       "    </tr>\n",
       "    <tr>\n",
       "      <th>Zilker Park West</th>\n",
       "      <td>29.306073</td>\n",
       "    </tr>\n",
       "    <tr>\n",
       "      <th>Zilker Park at Barton Springs &amp; William Barton Drive</th>\n",
       "      <td>34.144260</td>\n",
       "    </tr>\n",
       "  </tbody>\n",
       "</table>\n",
       "<p>199 rows × 1 columns</p>\n",
       "</div>"
      ],
      "text/plain": [
       "                                                    duration_minutes\n",
       "10th & Red River                                           64.189415\n",
       "10th/Red River                                             75.193333\n",
       "11th & Salina                                              46.944672\n",
       "11th & Salina                                              71.842173\n",
       "11th & San Jacinto                                         40.767098\n",
       "...                                                              ...\n",
       "Waller & 6th St.                                           26.285215\n",
       "West & 6th St.                                             28.881014\n",
       "Zilker Park                                                44.201111\n",
       "Zilker Park West                                           29.306073\n",
       "Zilker Park at Barton Springs & William Barton ...         34.144260\n",
       "\n",
       "[199 rows x 1 columns]"
      ]
     },
     "execution_count": 20,
     "metadata": {},
     "output_type": "execute_result"
    }
   ],
   "source": [
    "pd.DataFrame(res.json())"
   ]
  },
  {
   "attachments": {},
   "cell_type": "markdown",
   "id": "3f1c8d87-b066-48dc-b9db-2339aa3693db",
   "metadata": {},
   "source": [
    "## Create Dynamic Endpoints "
   ]
  },
  {
   "attachments": {},
   "cell_type": "markdown",
   "id": "46eecec9-49c8-4c02-835a-cb4a813c41ad",
   "metadata": {},
   "source": [
    "You can use the following cell to try-out your function before implementing it as an endpoint.\n",
    "\n",
    "After created the endpoint, make sure to implement it to `app.py` file."
   ]
  },
  {
   "cell_type": "code",
   "execution_count": null,
   "id": "9918b0ea-11df-4a03-af50-7138266a4072",
   "metadata": {},
   "outputs": [],
   "source": [
    "# Your Code Here\n",
    "@app.route('/trips/average_duration/<bike_id>') \n",
    "def route_duration_perbike(bike_id):\n",
    "    conn = make_connection()\n",
    "    average_time_perbike = get_average_duration_perbike(bike_id, conn)\n",
    "    return average_time_perbike"
   ]
  },
  {
   "cell_type": "code",
   "execution_count": 48,
   "id": "35b5d76c",
   "metadata": {},
   "outputs": [
    {
     "data": {
      "text/html": [
       "<div>\n",
       "<style scoped>\n",
       "    .dataframe tbody tr th:only-of-type {\n",
       "        vertical-align: middle;\n",
       "    }\n",
       "\n",
       "    .dataframe tbody tr th {\n",
       "        vertical-align: top;\n",
       "    }\n",
       "\n",
       "    .dataframe thead th {\n",
       "        text-align: right;\n",
       "    }\n",
       "</style>\n",
       "<table border=\"1\" class=\"dataframe\">\n",
       "  <thead>\n",
       "    <tr style=\"text-align: right;\">\n",
       "      <th></th>\n",
       "      <th>duration_minutes</th>\n",
       "    </tr>\n",
       "    <tr>\n",
       "      <th>days</th>\n",
       "      <th></th>\n",
       "    </tr>\n",
       "  </thead>\n",
       "  <tbody>\n",
       "    <tr>\n",
       "      <th>Friday</th>\n",
       "      <td>36.455056</td>\n",
       "    </tr>\n",
       "    <tr>\n",
       "      <th>Monday</th>\n",
       "      <td>20.621622</td>\n",
       "    </tr>\n",
       "    <tr>\n",
       "      <th>Saturday</th>\n",
       "      <td>37.954397</td>\n",
       "    </tr>\n",
       "    <tr>\n",
       "      <th>Sunday</th>\n",
       "      <td>28.905904</td>\n",
       "    </tr>\n",
       "    <tr>\n",
       "      <th>Thursday</th>\n",
       "      <td>38.307500</td>\n",
       "    </tr>\n",
       "    <tr>\n",
       "      <th>Tuesday</th>\n",
       "      <td>18.540094</td>\n",
       "    </tr>\n",
       "    <tr>\n",
       "      <th>Wednesday</th>\n",
       "      <td>15.264151</td>\n",
       "    </tr>\n",
       "  </tbody>\n",
       "</table>\n",
       "</div>"
      ],
      "text/plain": [
       "           duration_minutes\n",
       "days                       \n",
       "Friday            36.455056\n",
       "Monday            20.621622\n",
       "Saturday          37.954397\n",
       "Sunday            28.905904\n",
       "Thursday          38.307500\n",
       "Tuesday           18.540094\n",
       "Wednesday         15.264151"
      ]
     },
     "execution_count": 48,
     "metadata": {},
     "output_type": "execute_result"
    }
   ],
   "source": [
    "def get_average_duration_perbike(bike_id, conn):\n",
    "    query_bike_id = f\"\"\"SELECT * FROM trips WHERE bikeid = {bike_id}\"\"\"\n",
    "    result = pd.read_sql_query(query_bike_id, conn, parse_dates='start_time')\n",
    "    result['days']=result['start_time'].dt.day_name()\n",
    "    result_avg = pd.pivot_table(\n",
    "                    data=result,\n",
    "                    index='days',\n",
    "                    values='duration_minutes',\n",
    "                    aggfunc='mean'\n",
    "                    )\n",
    "    return result_avg.to_json()"
   ]
  },
  {
   "cell_type": "code",
   "execution_count": 16,
   "id": "4988fab9",
   "metadata": {},
   "outputs": [
    {
     "data": {
      "text/plain": [
       "<Response [200]>"
      ]
     },
     "execution_count": 16,
     "metadata": {},
     "output_type": "execute_result"
    }
   ],
   "source": [
    "bike_id = 528\n",
    "url = f\"http://127.0.0.1:5000/trips/average_duration/{bike_id}\"\n",
    "response = requests.get(url)\n",
    "response"
   ]
  },
  {
   "cell_type": "code",
   "execution_count": 51,
   "id": "30a2099d",
   "metadata": {},
   "outputs": [
    {
     "data": {
      "text/html": [
       "<div>\n",
       "<style scoped>\n",
       "    .dataframe tbody tr th:only-of-type {\n",
       "        vertical-align: middle;\n",
       "    }\n",
       "\n",
       "    .dataframe tbody tr th {\n",
       "        vertical-align: top;\n",
       "    }\n",
       "\n",
       "    .dataframe thead th {\n",
       "        text-align: right;\n",
       "    }\n",
       "</style>\n",
       "<table border=\"1\" class=\"dataframe\">\n",
       "  <thead>\n",
       "    <tr style=\"text-align: right;\">\n",
       "      <th></th>\n",
       "      <th>duration_minutes</th>\n",
       "    </tr>\n",
       "  </thead>\n",
       "  <tbody>\n",
       "    <tr>\n",
       "      <th>Friday</th>\n",
       "      <td>27.248408</td>\n",
       "    </tr>\n",
       "    <tr>\n",
       "      <th>Monday</th>\n",
       "      <td>31.285714</td>\n",
       "    </tr>\n",
       "    <tr>\n",
       "      <th>Saturday</th>\n",
       "      <td>34.115987</td>\n",
       "    </tr>\n",
       "    <tr>\n",
       "      <th>Sunday</th>\n",
       "      <td>36.638554</td>\n",
       "    </tr>\n",
       "    <tr>\n",
       "      <th>Thursday</th>\n",
       "      <td>27.307692</td>\n",
       "    </tr>\n",
       "    <tr>\n",
       "      <th>Tuesday</th>\n",
       "      <td>41.003401</td>\n",
       "    </tr>\n",
       "    <tr>\n",
       "      <th>Wednesday</th>\n",
       "      <td>17.844068</td>\n",
       "    </tr>\n",
       "  </tbody>\n",
       "</table>\n",
       "</div>"
      ],
      "text/plain": [
       "           duration_minutes\n",
       "Friday            27.248408\n",
       "Monday            31.285714\n",
       "Saturday          34.115987\n",
       "Sunday            36.638554\n",
       "Thursday          27.307692\n",
       "Tuesday           41.003401\n",
       "Wednesday         17.844068"
      ]
     },
     "execution_count": 51,
     "metadata": {},
     "output_type": "execute_result"
    }
   ],
   "source": [
    "pd.DataFrame(response.json())"
   ]
  },
  {
   "attachments": {},
   "cell_type": "markdown",
   "id": "712aeb14-8f96-4df5-a2eb-5a42e083dddc",
   "metadata": {},
   "source": [
    "## Create POST Endpoints"
   ]
  },
  {
   "attachments": {},
   "cell_type": "markdown",
   "id": "d518c6a2-6fc7-4eb0-91a7-c7ba25db5bce",
   "metadata": {},
   "source": [
    "You can use the following cell to try-out your function before implementing it as an endpoint.\n",
    "\n",
    "If you still find it quite difficult, here's an example case you might wanted to try on:\n",
    "- input : a dictionary contained a datetime period\n",
    "    - { \"period\" : \"2015-08\" }\n",
    "- output:\n",
    "    - Aggregation table of bike rent activities for each station in that specific period\n",
    "- example code: \n",
    "\n",
    "```python \n",
    "input_data = request.get_json() # Get the input as dictionary\n",
    "specified_date = input_data['period'] # Select specific items (period) from the dictionary (the value will be \"2015-08\")\n",
    "\n",
    "# Subset the data with query \n",
    "conn = make_connection()\n",
    "query = f\"SELECT * FROM stations WHERE start_time LIKE ({specified_date}%)\"\n",
    "selected_data = pd.read_sql_query(query, conn)\n",
    "\n",
    "# Make the aggregate\n",
    "result = selected_data.groupby('start_station_id').agg({\n",
    "    'bikeid' : 'count', \n",
    "    'duration_minutes' : 'mean'\n",
    "})\n",
    "\n",
    "# Return the result\n",
    "return result.to_json()\n",
    "\n",
    "```\n",
    "\n",
    "After created the endpoint, make sure to implement it to app.py file."
   ]
  },
  {
   "cell_type": "code",
   "execution_count": null,
   "id": "eda22c6d",
   "metadata": {},
   "outputs": [],
   "source": [
    "@app.route('/trips/period', methods=['POST'])\n",
    "def route_activities_by_period():\n",
    "    conn = make_connection()\n",
    "    input_data = request.get_json(force=True)\n",
    "\n",
    "    specific_period = input_data['period']\n",
    "    average_activity_period = get_avg_act(specific_period, conn)\n",
    "\n",
    "    return average_activity_period"
   ]
  },
  {
   "cell_type": "code",
   "execution_count": 8,
   "id": "95c6125b",
   "metadata": {},
   "outputs": [
    {
     "data": {
      "text/html": [
       "<div>\n",
       "<style scoped>\n",
       "    .dataframe tbody tr th:only-of-type {\n",
       "        vertical-align: middle;\n",
       "    }\n",
       "\n",
       "    .dataframe tbody tr th {\n",
       "        vertical-align: top;\n",
       "    }\n",
       "\n",
       "    .dataframe thead th {\n",
       "        text-align: right;\n",
       "    }\n",
       "</style>\n",
       "<table border=\"1\" class=\"dataframe\">\n",
       "  <thead>\n",
       "    <tr style=\"text-align: right;\">\n",
       "      <th></th>\n",
       "      <th>bikeid</th>\n",
       "      <th>start_station_name</th>\n",
       "      <th>end_station_name</th>\n",
       "      <th>duration_minutes</th>\n",
       "    </tr>\n",
       "    <tr>\n",
       "      <th>subscriber_type</th>\n",
       "      <th></th>\n",
       "      <th></th>\n",
       "      <th></th>\n",
       "      <th></th>\n",
       "    </tr>\n",
       "  </thead>\n",
       "  <tbody>\n",
       "    <tr>\n",
       "      <th>24 Hour Walk Up Pass</th>\n",
       "      <td>739</td>\n",
       "      <td>63</td>\n",
       "      <td>67</td>\n",
       "      <td>61.426252</td>\n",
       "    </tr>\n",
       "    <tr>\n",
       "      <th>3-Day Weekender</th>\n",
       "      <td>296</td>\n",
       "      <td>61</td>\n",
       "      <td>60</td>\n",
       "      <td>33.942568</td>\n",
       "    </tr>\n",
       "    <tr>\n",
       "      <th>Annual Membership</th>\n",
       "      <td>12</td>\n",
       "      <td>7</td>\n",
       "      <td>9</td>\n",
       "      <td>52.666667</td>\n",
       "    </tr>\n",
       "    <tr>\n",
       "      <th>Explorer</th>\n",
       "      <td>567</td>\n",
       "      <td>63</td>\n",
       "      <td>65</td>\n",
       "      <td>41.834215</td>\n",
       "    </tr>\n",
       "    <tr>\n",
       "      <th>Local31</th>\n",
       "      <td>1790</td>\n",
       "      <td>73</td>\n",
       "      <td>72</td>\n",
       "      <td>28.606145</td>\n",
       "    </tr>\n",
       "    <tr>\n",
       "      <th>Local365</th>\n",
       "      <td>2990</td>\n",
       "      <td>74</td>\n",
       "      <td>74</td>\n",
       "      <td>27.015385</td>\n",
       "    </tr>\n",
       "    <tr>\n",
       "      <th>Local365+Guest Pass</th>\n",
       "      <td>14</td>\n",
       "      <td>6</td>\n",
       "      <td>7</td>\n",
       "      <td>11.500000</td>\n",
       "    </tr>\n",
       "    <tr>\n",
       "      <th>Pay-as-you-ride</th>\n",
       "      <td>451</td>\n",
       "      <td>66</td>\n",
       "      <td>66</td>\n",
       "      <td>56.964523</td>\n",
       "    </tr>\n",
       "    <tr>\n",
       "      <th>Single Trip (Pay-as-you-ride)</th>\n",
       "      <td>617</td>\n",
       "      <td>59</td>\n",
       "      <td>61</td>\n",
       "      <td>65.844408</td>\n",
       "    </tr>\n",
       "    <tr>\n",
       "      <th>U.T. Student Membership</th>\n",
       "      <td>264</td>\n",
       "      <td>39</td>\n",
       "      <td>38</td>\n",
       "      <td>16.920455</td>\n",
       "    </tr>\n",
       "  </tbody>\n",
       "</table>\n",
       "</div>"
      ],
      "text/plain": [
       "                               bikeid  start_station_name  end_station_name   \n",
       "subscriber_type                                                               \n",
       "24 Hour Walk Up Pass              739                  63                67  \\\n",
       "3-Day Weekender                   296                  61                60   \n",
       "Annual Membership                  12                   7                 9   \n",
       "Explorer                          567                  63                65   \n",
       "Local31                          1790                  73                72   \n",
       "Local365                         2990                  74                74   \n",
       "Local365+Guest Pass                14                   6                 7   \n",
       "Pay-as-you-ride                   451                  66                66   \n",
       "Single Trip (Pay-as-you-ride)     617                  59                61   \n",
       "U.T. Student Membership           264                  39                38   \n",
       "\n",
       "                               duration_minutes  \n",
       "subscriber_type                                  \n",
       "24 Hour Walk Up Pass                  61.426252  \n",
       "3-Day Weekender                       33.942568  \n",
       "Annual Membership                     52.666667  \n",
       "Explorer                              41.834215  \n",
       "Local31                               28.606145  \n",
       "Local365                              27.015385  \n",
       "Local365+Guest Pass                   11.500000  \n",
       "Pay-as-you-ride                       56.964523  \n",
       "Single Trip (Pay-as-you-ride)         65.844408  \n",
       "U.T. Student Membership               16.920455  "
      ]
     },
     "execution_count": 8,
     "metadata": {},
     "output_type": "execute_result"
    }
   ],
   "source": [
    "period={'period':'2020-12'}\n",
    "\n",
    "def get_activities_by_period(period, conn):\n",
    "    \n",
    "    specific_period = period['period']\n",
    "\n",
    "    query_act = f'''SELECT * FROM trips WHERE start_time LIKE '{specific_period}%' '''\n",
    "    selected_data = pd.read_sql_query(query_act, conn)\n",
    "    result = selected_data.groupby('subscriber_type').agg({\n",
    "    'bikeid' : 'count', \n",
    "    'start_station_name' : 'nunique', \n",
    "    'end_station_name' : 'nunique', \n",
    "    'duration_minutes' : 'mean'})\n",
    "    \n",
    "    return result\n",
    "\n",
    "get_activities_by_period(period, conn)"
   ]
  },
  {
   "cell_type": "code",
   "execution_count": 48,
   "id": "c3b1c9ea",
   "metadata": {},
   "outputs": [
    {
     "data": {
      "text/plain": [
       "<Response [200]>"
      ]
     },
     "execution_count": 48,
     "metadata": {},
     "output_type": "execute_result"
    }
   ],
   "source": [
    "data_json = {\"period\" : \"2020-12\"}\n",
    "\n",
    "url = \"http://127.0.0.1:5000/trips/period\"\n",
    "\n",
    "res = requests.post(url, json=data_json)\n",
    "res"
   ]
  },
  {
   "cell_type": "code",
   "execution_count": 49,
   "id": "9c2bd4ff",
   "metadata": {},
   "outputs": [
    {
     "data": {
      "text/html": [
       "<div>\n",
       "<style scoped>\n",
       "    .dataframe tbody tr th:only-of-type {\n",
       "        vertical-align: middle;\n",
       "    }\n",
       "\n",
       "    .dataframe tbody tr th {\n",
       "        vertical-align: top;\n",
       "    }\n",
       "\n",
       "    .dataframe thead th {\n",
       "        text-align: right;\n",
       "    }\n",
       "</style>\n",
       "<table border=\"1\" class=\"dataframe\">\n",
       "  <thead>\n",
       "    <tr style=\"text-align: right;\">\n",
       "      <th></th>\n",
       "      <th>bikeid</th>\n",
       "      <th>start_station_name</th>\n",
       "      <th>end_station_name</th>\n",
       "      <th>duration_minutes</th>\n",
       "    </tr>\n",
       "  </thead>\n",
       "  <tbody>\n",
       "    <tr>\n",
       "      <th>24 Hour Walk Up Pass</th>\n",
       "      <td>739</td>\n",
       "      <td>63</td>\n",
       "      <td>67</td>\n",
       "      <td>61.426252</td>\n",
       "    </tr>\n",
       "    <tr>\n",
       "      <th>3-Day Weekender</th>\n",
       "      <td>296</td>\n",
       "      <td>61</td>\n",
       "      <td>60</td>\n",
       "      <td>33.942568</td>\n",
       "    </tr>\n",
       "    <tr>\n",
       "      <th>Annual Membership</th>\n",
       "      <td>12</td>\n",
       "      <td>7</td>\n",
       "      <td>9</td>\n",
       "      <td>52.666667</td>\n",
       "    </tr>\n",
       "    <tr>\n",
       "      <th>Explorer</th>\n",
       "      <td>567</td>\n",
       "      <td>63</td>\n",
       "      <td>65</td>\n",
       "      <td>41.834215</td>\n",
       "    </tr>\n",
       "    <tr>\n",
       "      <th>Local31</th>\n",
       "      <td>1790</td>\n",
       "      <td>73</td>\n",
       "      <td>72</td>\n",
       "      <td>28.606145</td>\n",
       "    </tr>\n",
       "    <tr>\n",
       "      <th>Local365</th>\n",
       "      <td>2990</td>\n",
       "      <td>74</td>\n",
       "      <td>74</td>\n",
       "      <td>27.015385</td>\n",
       "    </tr>\n",
       "    <tr>\n",
       "      <th>Local365+Guest Pass</th>\n",
       "      <td>14</td>\n",
       "      <td>6</td>\n",
       "      <td>7</td>\n",
       "      <td>11.500000</td>\n",
       "    </tr>\n",
       "    <tr>\n",
       "      <th>Pay-as-you-ride</th>\n",
       "      <td>451</td>\n",
       "      <td>66</td>\n",
       "      <td>66</td>\n",
       "      <td>56.964523</td>\n",
       "    </tr>\n",
       "    <tr>\n",
       "      <th>Single Trip (Pay-as-you-ride)</th>\n",
       "      <td>617</td>\n",
       "      <td>59</td>\n",
       "      <td>61</td>\n",
       "      <td>65.844408</td>\n",
       "    </tr>\n",
       "    <tr>\n",
       "      <th>U.T. Student Membership</th>\n",
       "      <td>264</td>\n",
       "      <td>39</td>\n",
       "      <td>38</td>\n",
       "      <td>16.920455</td>\n",
       "    </tr>\n",
       "  </tbody>\n",
       "</table>\n",
       "</div>"
      ],
      "text/plain": [
       "                               bikeid  start_station_name  end_station_name   \n",
       "24 Hour Walk Up Pass              739                  63                67  \\\n",
       "3-Day Weekender                   296                  61                60   \n",
       "Annual Membership                  12                   7                 9   \n",
       "Explorer                          567                  63                65   \n",
       "Local31                          1790                  73                72   \n",
       "Local365                         2990                  74                74   \n",
       "Local365+Guest Pass                14                   6                 7   \n",
       "Pay-as-you-ride                   451                  66                66   \n",
       "Single Trip (Pay-as-you-ride)     617                  59                61   \n",
       "U.T. Student Membership           264                  39                38   \n",
       "\n",
       "                               duration_minutes  \n",
       "24 Hour Walk Up Pass                  61.426252  \n",
       "3-Day Weekender                       33.942568  \n",
       "Annual Membership                     52.666667  \n",
       "Explorer                              41.834215  \n",
       "Local31                               28.606145  \n",
       "Local365                              27.015385  \n",
       "Local365+Guest Pass                   11.500000  \n",
       "Pay-as-you-ride                       56.964523  \n",
       "Single Trip (Pay-as-you-ride)         65.844408  \n",
       "U.T. Student Membership               16.920455  "
      ]
     },
     "execution_count": 49,
     "metadata": {},
     "output_type": "execute_result"
    }
   ],
   "source": [
    "pd.DataFrame(res.json())"
   ]
  },
  {
   "attachments": {},
   "cell_type": "markdown",
   "id": "46bbfb18",
   "metadata": {},
   "source": []
  },
  {
   "attachments": {},
   "cell_type": "markdown",
   "id": "5312598e",
   "metadata": {},
   "source": [
    "# Submission\n",
    "\n",
    "After finishing your work of all the rubrics, the next step will be;\n",
    "\n",
    "1. Prepare your `Bikeshare API.ipynb` file that has been edited with your code and wrangling data.\n",
    "2. Prepare your `app.py` file for your Flask App. Make sure you have implemented all the endpoints to `app.py` (including your custom static, dynamic and post endpoints).\n",
    "3. Submit your `Bikeshare API.ipynb` and `app.py` file in your github repository. The dataset is optional to post since it has big size to post. \n",
    "\n"
   ]
  }
 ],
 "metadata": {
  "kernelspec": {
   "display_name": "vulcan_da",
   "language": "python",
   "name": "vulcan_da"
  },
  "language_info": {
   "codemirror_mode": {
    "name": "ipython",
    "version": 3
   },
   "file_extension": ".py",
   "mimetype": "text/x-python",
   "name": "python",
   "nbconvert_exporter": "python",
   "pygments_lexer": "ipython3",
   "version": "3.10.10"
  },
  "toc": {
   "base_numbering": 1,
   "nav_menu": {},
   "number_sections": true,
   "sideBar": true,
   "skip_h1_title": false,
   "title_cell": "Table of Contents",
   "title_sidebar": "Contents",
   "toc_cell": false,
   "toc_position": {},
   "toc_section_display": true,
   "toc_window_display": false
  },
  "toc-autonumbering": true
 },
 "nbformat": 4,
 "nbformat_minor": 5
}
